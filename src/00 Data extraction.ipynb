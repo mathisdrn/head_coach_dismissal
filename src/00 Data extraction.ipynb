{
 "cells": [
  {
   "cell_type": "markdown",
   "id": "7a2d36dd",
   "metadata": {},
   "source": [
    "---\n",
    "title: Data extraction\n",
    "description: We proceed to extract dataset using WorldFootballR library from Fbref and ...\n",
    "---"
   ]
  },
  {
   "cell_type": "code",
   "execution_count": 22,
   "id": "b07eaee9",
   "metadata": {
    "vscode": {
     "languageId": "r"
    }
   },
   "outputs": [],
   "source": [
    "if (!require(worldfootballR)) { \n",
    "    install.packages(\"worldfootballR\")\n",
    "    library(worldfootballR)\n",
    "}\n",
    "\n",
    "if (!require(readr)) {\n",
    "  install.packages(\"readr\")\n",
    "  library(readr)\n",
    "}"
   ]
  },
  {
   "cell_type": "markdown",
   "id": "19a44114",
   "metadata": {
    "vscode": {
     "languageId": "r"
    }
   },
   "source": [
    "### Collecting match results"
   ]
  },
  {
   "cell_type": "code",
   "execution_count": 23,
   "id": "db3124e1",
   "metadata": {
    "vscode": {
     "languageId": "r"
    }
   },
   "outputs": [],
   "source": [
    "country <- c(\"ENG\", \"ESP\", \"ITA\", \"GER\", \"FRA\")\n",
    "year <- c(2018, 2019, 2020, 2021, 2022)\n",
    "match_result <- fb_match_results(country = country, gender = \"M\", season_end_year = year, tier = \"1st\")"
   ]
  },
  {
   "cell_type": "code",
   "execution_count": 24,
   "id": "6082da76",
   "metadata": {
    "vscode": {
     "languageId": "r"
    }
   },
   "outputs": [
    {
     "data": {
      "text/html": [
       "<table class=\"dataframe\">\n",
       "<caption>A data.frame: 6 x 8</caption>\n",
       "<thead>\n",
       "\t<tr><th></th><th scope=col>League</th><th scope=col>Country</th><th scope=col>Season</th><th scope=col>Date</th><th scope=col>Home</th><th scope=col>HomeGoals</th><th scope=col>Away</th><th scope=col>AwayGoals</th></tr>\n",
       "\t<tr><th></th><th scope=col>&lt;chr&gt;</th><th scope=col>&lt;chr&gt;</th><th scope=col>&lt;int&gt;</th><th scope=col>&lt;date&gt;</th><th scope=col>&lt;chr&gt;</th><th scope=col>&lt;dbl&gt;</th><th scope=col>&lt;chr&gt;</th><th scope=col>&lt;dbl&gt;</th></tr>\n",
       "</thead>\n",
       "<tbody>\n",
       "\t<tr><th scope=row>1</th><td>Premier League</td><td>ENG</td><td>2018</td><td>2017-08-11</td><td>Arsenal       </td><td>4</td><td>Leicester City</td><td>3</td></tr>\n",
       "\t<tr><th scope=row>2</th><td>Premier League</td><td>ENG</td><td>2018</td><td>2017-08-12</td><td>Watford       </td><td>3</td><td>Liverpool     </td><td>3</td></tr>\n",
       "\t<tr><th scope=row>3</th><td>Premier League</td><td>ENG</td><td>2018</td><td>2017-08-12</td><td>Crystal Palace</td><td>0</td><td>Huddersfield  </td><td>3</td></tr>\n",
       "\t<tr><th scope=row>4</th><td>Premier League</td><td>ENG</td><td>2018</td><td>2017-08-12</td><td>West Brom     </td><td>1</td><td>Bournemouth   </td><td>0</td></tr>\n",
       "\t<tr><th scope=row>5</th><td>Premier League</td><td>ENG</td><td>2018</td><td>2017-08-12</td><td>Chelsea       </td><td>2</td><td>Burnley       </td><td>3</td></tr>\n",
       "\t<tr><th scope=row>6</th><td>Premier League</td><td>ENG</td><td>2018</td><td>2017-08-12</td><td>Everton       </td><td>1</td><td>Stoke City    </td><td>0</td></tr>\n",
       "</tbody>\n",
       "</table>\n"
      ],
      "text/latex": [
       "A data.frame: 6 x 8\n",
       "\\begin{tabular}{r|llllllll}\n",
       "  & League & Country & Season & Date & Home & HomeGoals & Away & AwayGoals\\\\\n",
       "  & <chr> & <chr> & <int> & <date> & <chr> & <dbl> & <chr> & <dbl>\\\\\n",
       "\\hline\n",
       "\t1 & Premier League & ENG & 2018 & 2017-08-11 & Arsenal        & 4 & Leicester City & 3\\\\\n",
       "\t2 & Premier League & ENG & 2018 & 2017-08-12 & Watford        & 3 & Liverpool      & 3\\\\\n",
       "\t3 & Premier League & ENG & 2018 & 2017-08-12 & Crystal Palace & 0 & Huddersfield   & 3\\\\\n",
       "\t4 & Premier League & ENG & 2018 & 2017-08-12 & West Brom      & 1 & Bournemouth    & 0\\\\\n",
       "\t5 & Premier League & ENG & 2018 & 2017-08-12 & Chelsea        & 2 & Burnley        & 3\\\\\n",
       "\t6 & Premier League & ENG & 2018 & 2017-08-12 & Everton        & 1 & Stoke City     & 0\\\\\n",
       "\\end{tabular}\n"
      ],
      "text/markdown": [
       "\n",
       "A data.frame: 6 x 8\n",
       "\n",
       "| <!--/--> | League &lt;chr&gt; | Country &lt;chr&gt; | Season &lt;int&gt; | Date &lt;date&gt; | Home &lt;chr&gt; | HomeGoals &lt;dbl&gt; | Away &lt;chr&gt; | AwayGoals &lt;dbl&gt; |\n",
       "|---|---|---|---|---|---|---|---|---|\n",
       "| 1 | Premier League | ENG | 2018 | 2017-08-11 | Arsenal        | 4 | Leicester City | 3 |\n",
       "| 2 | Premier League | ENG | 2018 | 2017-08-12 | Watford        | 3 | Liverpool      | 3 |\n",
       "| 3 | Premier League | ENG | 2018 | 2017-08-12 | Crystal Palace | 0 | Huddersfield   | 3 |\n",
       "| 4 | Premier League | ENG | 2018 | 2017-08-12 | West Brom      | 1 | Bournemouth    | 0 |\n",
       "| 5 | Premier League | ENG | 2018 | 2017-08-12 | Chelsea        | 2 | Burnley        | 3 |\n",
       "| 6 | Premier League | ENG | 2018 | 2017-08-12 | Everton        | 1 | Stoke City     | 0 |\n",
       "\n"
      ],
      "text/plain": [
       "  League         Country Season Date       Home           HomeGoals\n",
       "1 Premier League ENG     2018   2017-08-11 Arsenal        4        \n",
       "2 Premier League ENG     2018   2017-08-12 Watford        3        \n",
       "3 Premier League ENG     2018   2017-08-12 Crystal Palace 0        \n",
       "4 Premier League ENG     2018   2017-08-12 West Brom      1        \n",
       "5 Premier League ENG     2018   2017-08-12 Chelsea        2        \n",
       "6 Premier League ENG     2018   2017-08-12 Everton        1        \n",
       "  Away           AwayGoals\n",
       "1 Leicester City 3        \n",
       "2 Liverpool      3        \n",
       "3 Huddersfield   3        \n",
       "4 Bournemouth    0        \n",
       "5 Burnley        3        \n",
       "6 Stoke City     0        "
      ]
     },
     "metadata": {},
     "output_type": "display_data"
    }
   ],
   "source": [
    "columns_to_keep <- c('Competition_Name', 'Country', 'Season_End_Year', 'Date', 'Home', 'HomeGoals', 'Away', 'AwayGoals')\n",
    "match_result <- match_result[, columns_to_keep]\n",
    "# Rename columns\n",
    "colnames(match_result) <- c('League', 'Country', 'Season', 'Date', 'Home', 'HomeGoals', 'Away', 'AwayGoals')\n",
    "head(match_result)"
   ]
  },
  {
   "cell_type": "code",
   "execution_count": 26,
   "id": "60b04e68",
   "metadata": {
    "vscode": {
     "languageId": "r"
    }
   },
   "outputs": [],
   "source": [
    "# Saving the data\n",
    "write_csv(match_result, \"data/extracted_head_coach.csv\")"
   ]
  },
  {
   "cell_type": "markdown",
   "id": "0dd1d968",
   "metadata": {},
   "source": [
    "### Collecting head coach data"
   ]
  },
  {
   "cell_type": "code",
   "execution_count": 27,
   "id": "28e076f6",
   "metadata": {
    "vscode": {
     "languageId": "r"
    }
   },
   "outputs": [],
   "source": [
    "country <- c(\"England\", \"Spain\", \"Italy\", \"Germany\", \"France\")\n",
    "\n",
    "teams_url <- c()\n",
    "\n",
    "for (i in seq_along(country)) {\n",
    "    league_team_url <- tm_league_team_urls(country_name = country[i], start_year = 2018)\n",
    "    teams_url <- c(teams_url, league_team_url)\n",
    "}"
   ]
  },
  {
   "cell_type": "code",
   "execution_count": 28,
   "id": "d8ce18f9",
   "metadata": {
    "vscode": {
     "languageId": "r"
    }
   },
   "outputs": [
    {
     "data": {
      "text/html": [
       "<style>\n",
       ".list-inline {list-style: none; margin:0; padding: 0}\n",
       ".list-inline>li {display: inline-block}\n",
       ".list-inline>li:not(:last-child)::after {content: \"\\00b7\"; padding: 0 .5ex}\n",
       "</style>\n",
       "<ol class=list-inline><li>'Premier League'</li><li>'Championship'</li><li>'LaLiga'</li><li>'LaLiga2'</li><li>'Serie A'</li><li>'Serie B'</li><li>'Serie C - Girone B'</li><li>NA</li><li>'Bundesliga'</li><li>'2. Bundesliga'</li><li>'Ligue 1'</li><li>'Ligue 2'</li><li>'Championnat National'</li></ol>\n"
      ],
      "text/latex": [
       "\\begin{enumerate*}\n",
       "\\item 'Premier League'\n",
       "\\item 'Championship'\n",
       "\\item 'LaLiga'\n",
       "\\item 'LaLiga2'\n",
       "\\item 'Serie A'\n",
       "\\item 'Serie B'\n",
       "\\item 'Serie C - Girone B'\n",
       "\\item NA\n",
       "\\item 'Bundesliga'\n",
       "\\item '2. Bundesliga'\n",
       "\\item 'Ligue 1'\n",
       "\\item 'Ligue 2'\n",
       "\\item 'Championnat National'\n",
       "\\end{enumerate*}\n"
      ],
      "text/markdown": [
       "1. 'Premier League'\n",
       "2. 'Championship'\n",
       "3. 'LaLiga'\n",
       "4. 'LaLiga2'\n",
       "5. 'Serie A'\n",
       "6. 'Serie B'\n",
       "7. 'Serie C - Girone B'\n",
       "8. NA\n",
       "9. 'Bundesliga'\n",
       "10. '2. Bundesliga'\n",
       "11. 'Ligue 1'\n",
       "12. 'Ligue 2'\n",
       "13. 'Championnat National'\n",
       "\n",
       "\n"
      ],
      "text/plain": [
       " [1] \"Premier League\"       \"Championship\"         \"LaLiga\"              \n",
       " [4] \"LaLiga2\"              \"Serie A\"              \"Serie B\"             \n",
       " [7] \"Serie C - Girone B\"   NA                     \"Bundesliga\"          \n",
       "[10] \"2. Bundesliga\"        \"Ligue 1\"              \"Ligue 2\"             \n",
       "[13] \"Championnat National\""
      ]
     },
     "metadata": {},
     "output_type": "display_data"
    }
   ],
   "source": [
    "head_coach <- tm_team_staff_history(team_urls = teams_url, staff_role = \"Manager\")\n",
    "unique(head_coach$league)"
   ]
  },
  {
   "cell_type": "code",
   "execution_count": 29,
   "id": "3bd70b01",
   "metadata": {
    "vscode": {
     "languageId": "r"
    }
   },
   "outputs": [
    {
     "data": {
      "text/html": [
       "<table class=\"dataframe\">\n",
       "<caption>A data.frame: 6 x 11</caption>\n",
       "<thead>\n",
       "\t<tr><th></th><th scope=col>Team</th><th scope=col>League</th><th scope=col>Country</th><th scope=col>HeadCoach</th><th scope=col>Appointed</th><th scope=col>EndDate</th><th scope=col>Tenure</th><th scope=col>Matches</th><th scope=col>Wins</th><th scope=col>Draws</th><th scope=col>Losses</th></tr>\n",
       "\t<tr><th></th><th scope=col>&lt;chr&gt;</th><th scope=col>&lt;chr&gt;</th><th scope=col>&lt;chr&gt;</th><th scope=col>&lt;chr&gt;</th><th scope=col>&lt;date&gt;</th><th scope=col>&lt;date&gt;</th><th scope=col>&lt;dbl&gt;</th><th scope=col>&lt;dbl&gt;</th><th scope=col>&lt;dbl&gt;</th><th scope=col>&lt;dbl&gt;</th><th scope=col>&lt;dbl&gt;</th></tr>\n",
       "</thead>\n",
       "<tbody>\n",
       "\t<tr><th scope=row>1</th><td>Manchester City</td><td>Premier League</td><td>England</td><td>Pep Guardiola             </td><td>2016-07-01</td><td>NA</td><td>2838</td><td>461</td><td>341</td><td>56</td><td>64</td></tr>\n",
       "\t<tr><th scope=row>2</th><td>Manchester City</td><td>Premier League</td><td>England</td><td>Manuel Pellegrini         </td><td>2013-07-01</td><td>2016-06-30</td><td>1095</td><td>166</td><td>101</td><td>27</td><td>38</td></tr>\n",
       "\t<tr><th scope=row>3</th><td>Manchester City</td><td>Premier League</td><td>England</td><td>Roberto Mancini           </td><td>2009-12-19</td><td>2013-05-13</td><td>1241</td><td>191</td><td>113</td><td>38</td><td>40</td></tr>\n",
       "\t<tr><th scope=row>4</th><td>Manchester City</td><td>Premier League</td><td>England</td><td>Mark Hughes               </td><td>2008-06-04</td><td>2009-12-19</td><td> 563</td><td> 77</td><td> 37</td><td>15</td><td>25</td></tr>\n",
       "\t<tr><th scope=row>5</th><td>Manchester City</td><td>Premier League</td><td>England</td><td>Sven-G&lt;U+00F6&gt;ran Eriksson</td><td>2007-07-06</td><td>2008-06-02</td><td> 332</td><td> 45</td><td> 19</td><td>11</td><td>15</td></tr>\n",
       "\t<tr><th scope=row>6</th><td>Manchester City</td><td>Premier League</td><td>England</td><td>Stuart Pearce             </td><td>2005-03-11</td><td>2007-05-14</td><td> 794</td><td> 97</td><td> 34</td><td>19</td><td>44</td></tr>\n",
       "</tbody>\n",
       "</table>\n"
      ],
      "text/latex": [
       "A data.frame: 6 x 11\n",
       "\\begin{tabular}{r|lllllllllll}\n",
       "  & Team & League & Country & HeadCoach & Appointed & EndDate & Tenure & Matches & Wins & Draws & Losses\\\\\n",
       "  & <chr> & <chr> & <chr> & <chr> & <date> & <date> & <dbl> & <dbl> & <dbl> & <dbl> & <dbl>\\\\\n",
       "\\hline\n",
       "\t1 & Manchester City & Premier League & England & Pep Guardiola              & 2016-07-01 & NA & 2838 & 461 & 341 & 56 & 64\\\\\n",
       "\t2 & Manchester City & Premier League & England & Manuel Pellegrini          & 2013-07-01 & 2016-06-30 & 1095 & 166 & 101 & 27 & 38\\\\\n",
       "\t3 & Manchester City & Premier League & England & Roberto Mancini            & 2009-12-19 & 2013-05-13 & 1241 & 191 & 113 & 38 & 40\\\\\n",
       "\t4 & Manchester City & Premier League & England & Mark Hughes                & 2008-06-04 & 2009-12-19 &  563 &  77 &  37 & 15 & 25\\\\\n",
       "\t5 & Manchester City & Premier League & England & Sven-G<U+00F6>ran Eriksson & 2007-07-06 & 2008-06-02 &  332 &  45 &  19 & 11 & 15\\\\\n",
       "\t6 & Manchester City & Premier League & England & Stuart Pearce              & 2005-03-11 & 2007-05-14 &  794 &  97 &  34 & 19 & 44\\\\\n",
       "\\end{tabular}\n"
      ],
      "text/markdown": [
       "\n",
       "A data.frame: 6 x 11\n",
       "\n",
       "| <!--/--> | Team &lt;chr&gt; | League &lt;chr&gt; | Country &lt;chr&gt; | HeadCoach &lt;chr&gt; | Appointed &lt;date&gt; | EndDate &lt;date&gt; | Tenure &lt;dbl&gt; | Matches &lt;dbl&gt; | Wins &lt;dbl&gt; | Draws &lt;dbl&gt; | Losses &lt;dbl&gt; |\n",
       "|---|---|---|---|---|---|---|---|---|---|---|---|\n",
       "| 1 | Manchester City | Premier League | England | Pep Guardiola              | 2016-07-01 | NA | 2838 | 461 | 341 | 56 | 64 |\n",
       "| 2 | Manchester City | Premier League | England | Manuel Pellegrini          | 2013-07-01 | 2016-06-30 | 1095 | 166 | 101 | 27 | 38 |\n",
       "| 3 | Manchester City | Premier League | England | Roberto Mancini            | 2009-12-19 | 2013-05-13 | 1241 | 191 | 113 | 38 | 40 |\n",
       "| 4 | Manchester City | Premier League | England | Mark Hughes                | 2008-06-04 | 2009-12-19 |  563 |  77 |  37 | 15 | 25 |\n",
       "| 5 | Manchester City | Premier League | England | Sven-G&lt;U+00F6&gt;ran Eriksson | 2007-07-06 | 2008-06-02 |  332 |  45 |  19 | 11 | 15 |\n",
       "| 6 | Manchester City | Premier League | England | Stuart Pearce              | 2005-03-11 | 2007-05-14 |  794 |  97 |  34 | 19 | 44 |\n",
       "\n"
      ],
      "text/plain": [
       "  Team            League         Country HeadCoach                  Appointed \n",
       "1 Manchester City Premier League England Pep Guardiola              2016-07-01\n",
       "2 Manchester City Premier League England Manuel Pellegrini          2013-07-01\n",
       "3 Manchester City Premier League England Roberto Mancini            2009-12-19\n",
       "4 Manchester City Premier League England Mark Hughes                2008-06-04\n",
       "5 Manchester City Premier League England Sven-G<U+00F6>ran Eriksson 2007-07-06\n",
       "6 Manchester City Premier League England Stuart Pearce              2005-03-11\n",
       "  EndDate    Tenure Matches Wins Draws Losses\n",
       "1 <NA>       2838   461     341  56    64    \n",
       "2 2016-06-30 1095   166     101  27    38    \n",
       "3 2013-05-13 1241   191     113  38    40    \n",
       "4 2009-12-19  563    77      37  15    25    \n",
       "5 2008-06-02  332    45      19  11    15    \n",
       "6 2007-05-14  794    97      34  19    44    "
      ]
     },
     "metadata": {},
     "output_type": "display_data"
    }
   ],
   "source": [
    "columns_to_keep <- c('team_name', 'league', 'country', 'staff_name', 'appointed', 'end_date', 'days_in_post', 'matches', 'wins', 'draws', 'losses')\n",
    "head_coach <- head_coach[, columns_to_keep]\n",
    "\n",
    "# Rename columns\n",
    "colnames(head_coach) <- c('Team', 'League', 'Country', 'HeadCoach', 'Appointed', 'EndDate', 'Tenure', 'Matches', 'Wins', 'Draws', 'Losses')\n",
    "\n",
    "# Filter head_coach records for leagues of interests\n",
    "league_of_interests <- c('Premier League', 'LaLiga', 'Ligue 1', 'Bundesliga', 'Serie A')\n",
    "head_coach <- head_coach[head_coach$League %in% league_of_interests,]\n",
    "\n",
    "head(head_coach)"
   ]
  },
  {
   "cell_type": "code",
   "execution_count": 31,
   "id": "6f285bc5",
   "metadata": {
    "vscode": {
     "languageId": "r"
    }
   },
   "outputs": [],
   "source": [
    "# Saving the data\n",
    "write_csv(head_coach, \"data/extracted_head_coach.csv\")"
   ]
  }
 ],
 "metadata": {
  "jupytext": {
   "cell_metadata_filter": "eval,-all",
   "main_language": "R",
   "notebook_metadata_filter": "-all"
  },
  "kernelspec": {
   "display_name": "R",
   "language": "R",
   "name": "ir"
  },
  "language_info": {
   "codemirror_mode": "r",
   "file_extension": ".r",
   "mimetype": "text/x-r-source",
   "name": "R",
   "pygments_lexer": "r",
   "version": "4.3.2"
  }
 },
 "nbformat": 4,
 "nbformat_minor": 5
}
