{
 "cells": [
  {
   "cell_type": "markdown",
   "metadata": {},
   "source": [
    "---\n",
    "title: More prepro\n",
    "description: dzakdlza\n",
    "output_matplotlib_strings: remove\n",
    "---"
   ]
  },
  {
   "cell_type": "code",
   "execution_count": null,
   "metadata": {},
   "outputs": [],
   "source": [
    "import pandas as pd"
   ]
  },
  {
   "cell_type": "code",
   "execution_count": null,
   "metadata": {},
   "outputs": [],
   "source": [
    "# Create a dataset that contains match results (win, draw, loss) and days since head coach was appointed\n",
    "\n",
    "# rows of match_result contains team1, team2, home_team, home_goals, away_team, away_goals\n",
    "match_results = pd.read_csv('data/match_results.csv', parse_dates=['date'])\n",
    "\n",
    "## 1. Create home_results, away_results\n",
    "def return_result(goal1, goal2):\n",
    "    if goal1 > goal2:\n",
    "        return 'win'\n",
    "    elif goal1 < goal2:\n",
    "        return 'loss'\n",
    "    else:\n",
    "        return 'draw'\n",
    "\n",
    "match_results['home_result'] = match_results.apply(lambda x: return_result(x['home_goals'], x['away_goals']), axis=1)\n",
    "match_results['away_result'] = match_results.apply(lambda x: return_result(x['away_goals'], x['home_goals']), axis=1)\n",
    "\n",
    "# 2. Transform match into 2 separate rows relative to each team\n",
    "home_results = match_results[['date', 'home_team', 'home_result']]\n",
    "home_results.columns = ['date', 'team', 'result']\n",
    "\n",
    "away_results = match_results[['date', 'away_team', 'away_result']]\n",
    "away_results.columns = ['date', 'team', 'result']\n",
    "\n",
    "match_results = pd.concat([home_results, away_results], axis=0)"
   ]
  },
  {
   "cell_type": "code",
   "execution_count": null,
   "metadata": {},
   "outputs": [],
   "source": [
    "# 3. Add a column that contains the days since the head coach was appointed for that team\n",
    "\n",
    "# head_coach contains team, coach_name, appointed, end_date\n",
    "head_coach = pd.read_csv('data/head_coach.csv', parse_dates=['appointed', 'end_date'])\n",
    "head_coach = head_coach[['team', 'league', 'appointed', 'coach_name', 'end_date']]"
   ]
  },
  {
   "cell_type": "code",
   "execution_count": null,
   "metadata": {},
   "outputs": [],
   "source": [
    "# Investigate non matching rows between match_results and head_coach\n",
    "no_match = pd.merge(match_results, head_coach, on='team', how='outer')\n",
    "match_without_coach = no_match[no_match['appointed'].isna()].groupby('team').count()\n",
    "\n",
    "print(f\"Number of matches without a head coach: {match_without_coach.shape[0]}\")\n",
    "print(\"Team without head coach for some matches:\")\n",
    "print(\", \".join(match_without_coach.index.unique()))\n",
    "\n",
    "print(\"All coach have a matching team in teams result : \", no_match[no_match['team'].isna()].shape[0] == 0)"
   ]
  },
  {
   "cell_type": "code",
   "execution_count": null,
   "metadata": {},
   "outputs": [],
   "source": [
    "#| label: hc_inconsistency\n",
    "\n",
    "# Merge the results and head_coach DataFrames on the 'team' column\n",
    "merged = pd.merge(match_results, head_coach, on='team', how='inner')\n",
    "\n",
    "# Filter the rows based on the 'date' and 'appointed' columns\n",
    "filtered = merged[(merged['appointed'] <= merged['date']) & \n",
    "                  ((merged['end_date'] > merged['date']) | (merged['end_date'].isna()))]\n",
    "\n",
    "check = filtered.groupby(['team', 'date']).size().reset_index(name='counts')\n",
    "if check['counts'].max() >= 1:\n",
    "    team_with_overlapping_coach = check[check['counts'] >= 2]['team'].unique()\n",
    "    # print(f\"Some teams have multiple head coach at the same time: {' ,'.join(team_with_overlapping_coach)}\")\n",
    "    display(head_coach[head_coach['team'].isin(team_with_overlapping_coach)])\n",
    "\n",
    "    # Drop teams with overlapping head_coach\n",
    "    filtered = filtered[~filtered['team'].isin(team_with_overlapping_coach)]"
   ]
  },
  {
   "cell_type": "code",
   "execution_count": null,
   "metadata": {},
   "outputs": [],
   "source": [
    "# Calculate the number of days since the head coach was appointed\n",
    "filtered['days_in_post'] = (filtered['date'] - filtered['appointed']).dt.days"
   ]
  },
  {
   "cell_type": "code",
   "execution_count": null,
   "metadata": {},
   "outputs": [],
   "source": [
    "print(f\"{filtered.shape[0]} matches out of {match_results.shape[0]} remains after excluding matches where we don't have information on head coach or there is overlapping head coaches.\")\n",
    "\n",
    "filtered.sort_values(['team', 'date']).head()"
   ]
  },
  {
   "cell_type": "code",
   "execution_count": null,
   "metadata": {},
   "outputs": [],
   "source": [
    "# Exclude matches with days_in_post > 2000\n",
    "filtered = filtered[filtered['days_in_post'] <= 2000]\n",
    "# Save as match_results2.csv\n",
    "match_results = filtered[['date', 'league', 'team', 'result', 'days_in_post']]\n",
    "match_results.to_csv('data/match_results2.csv', index=False)"
   ]
  }
 ],
 "metadata": {
  "kernelspec": {
   "display_name": "TER",
   "language": "python",
   "name": "python3"
  },
  "language_info": {
   "codemirror_mode": {
    "name": "ipython",
    "version": 3
   },
   "file_extension": ".py",
   "mimetype": "text/x-python",
   "name": "python",
   "nbconvert_exporter": "python",
   "pygments_lexer": "ipython3",
   "version": "3.11.8"
  }
 },
 "nbformat": 4,
 "nbformat_minor": 2
}
