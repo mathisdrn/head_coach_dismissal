{
 "cells": [
  {
   "cell_type": "markdown",
   "metadata": {},
   "source": [
    "---\n",
    "title: Stat analysis\n",
    "description: dzad\n",
    "---"
   ]
  },
  {
   "cell_type": "markdown",
   "metadata": {},
   "source": [
    "### Imports"
   ]
  },
  {
   "cell_type": "code",
   "execution_count": null,
   "metadata": {},
   "outputs": [],
   "source": [
    "import pandas as pd\n",
    "import numpy as np\n",
    "from matplotlib import pyplot as plt\n",
    "import matplotlib.dates as mdates\n",
    "import matplotlib.ticker as ticker\n",
    "import matplotlib.colors as mcolors\n",
    "import matplotlib.cm as cm\n",
    "import seaborn as sns\n",
    "from IPython.display import display, Markdown, HTML\n",
    "from datetime import datetime\n",
    "\n",
    "sns.set_theme(style = 'ticks', palette = 'pastel')\n",
    "plt.rcParams['figure.autolayout'] = True\n",
    "plt.rcParams['savefig.bbox'] = 'tight'\n",
    "sns.set_context(\"paper\")\n",
    "# Define fig saving context\n",
    "plt.rcParams['savefig.dpi'] = 300\n",
    "plt.rcParams['savefig.bbox'] = 'tight'\n",
    "plt.rcParams['savefig.directory'] = 'figures'"
   ]
  },
  {
   "cell_type": "markdown",
   "metadata": {},
   "source": [
    "### Loading data"
   ]
  },
  {
   "cell_type": "code",
   "execution_count": null,
   "metadata": {},
   "outputs": [],
   "source": [
    "match_results = pd.read_csv('data/match_results2.csv', parse_dates=['date'])\n",
    "match_results.shape"
   ]
  },
  {
   "cell_type": "code",
   "execution_count": null,
   "metadata": {},
   "outputs": [],
   "source": [
    "match_results['win'] = match_results['result'].apply(lambda x: 1 if x == 'win' else 0)\n",
    "match_results['loss'] = match_results['result'].apply(lambda x: 1 if x == 'loss' else 0)\n",
    "match_results['draw'] = match_results['result'].apply(lambda x: 1 if x == 'draw' else 0)"
   ]
  },
  {
   "cell_type": "code",
   "execution_count": null,
   "metadata": {},
   "outputs": [],
   "source": [
    "from sklearn.linear_model import LinearRegression\n",
    "from scipy.stats import pearsonr\n",
    "\n",
    "def plot_match_outcome_over_coach_tenure(data, y_value, y_label, color):\n",
    "    # Create a jointplot\n",
    "    # g = sns.jointplot(data=data, x='days_in_post', y=y_value, kind='reg', ratio = 3, marginal_ticks = False)\n",
    "    g = sns.jointplot(data=data, x='days_in_post', y=y_value, kind='reg', \n",
    "                      scatter_kws={'alpha':0.5, 'color': sns.light_palette(color, as_cmap=True)(0.4)}, \n",
    "                      line_kws={'color': sns.light_palette(color, as_cmap=True)(0.4)}, \n",
    "                      ratio = 3, marginal_ticks = False)\n",
    "    g.figure.set_figwidth(6)\n",
    "    g.figure.set_figheight(2)\n",
    "    g.figure.suptitle(f'Match outcome over Head Coach tenure', x = 0.4, y = 1.1)\n",
    "    g.set_axis_labels('Head Coach Tenure', 'Match Outcome')\n",
    "    \n",
    "    # Legend\n",
    "    r, p = pearsonr(data['days_in_post'], data[y_value])\n",
    "    legend = g.ax_joint.legend([f'r = {r:.2f}, p = {p:.2f}'], loc='upper left', bbox_to_anchor=(1, 1.6))\n",
    "    legend.set_title(\"Pearson correlation\")\n",
    "    \n",
    "    # Set y-axis tick\n",
    "    g.ax_joint.set_yticks([0, 1])\n",
    "    g.ax_joint.set_yticklabels(['not ' + y_label, y_label])\n",
    "    # Save the figure\n",
    "    g.savefig(f'figures/{y_value}_over_coach_tenure.png')"
   ]
  },
  {
   "cell_type": "code",
   "execution_count": null,
   "metadata": {},
   "outputs": [],
   "source": [
    "#| label: win_over_coach_tenure\n",
    "plot_match_outcome_over_coach_tenure(match_results, 'win', 'won', 'green')\n"
   ]
  },
  {
   "cell_type": "code",
   "execution_count": null,
   "metadata": {},
   "outputs": [],
   "source": [
    "#| label: draw_over_coach_tenure\n",
    "plot_match_outcome_over_coach_tenure(match_results, 'draw', 'draw', 'gray')"
   ]
  },
  {
   "cell_type": "code",
   "execution_count": null,
   "metadata": {},
   "outputs": [],
   "source": [
    "#| label: loss_over_coach_tenure\n",
    "plot_match_outcome_over_coach_tenure(match_results, 'loss', 'loss', 'red')"
   ]
  },
  {
   "cell_type": "code",
   "execution_count": null,
   "metadata": {},
   "outputs": [],
   "source": [
    "match_results_bis = match_results.groupby('days_in_post').agg({'win': 'mean', 'draw': 'mean', 'loss': 'mean', 'result': 'count'})\n",
    "match_results_bis.columns = ['win_rate', 'draw_rate', 'loss_rate', 'match_count']\n",
    "# Add missing days between the first and last day\n",
    "match_results_bis = match_results_bis.reindex(range(match_results_bis.index.min(), match_results_bis.index.max() + 1), fill_value=0)\n",
    "\n",
    "def weighted_rolling_mean(data, weights, window_size=30):\n",
    "    def weighted_mean(x):\n",
    "        return np.average(data.loc[x.index], weights=weights.loc[x.index])\n",
    "\n",
    "    return data.rolling(window_size, min_periods=1).apply(weighted_mean, raw=False)\n",
    "\n",
    "match_results_bis['win_rate_smooth'] = weighted_rolling_mean(match_results_bis['win_rate'], match_results_bis['match_count'])\n",
    "match_results_bis['draw_rate_smooth'] = weighted_rolling_mean(match_results_bis['draw_rate'], match_results_bis['match_count'])\n",
    "match_results_bis['loss_rate_smooth'] = weighted_rolling_mean(match_results_bis['loss_rate'], match_results_bis['match_count'])\n",
    "\n",
    "# Ensures it sums to 1\n",
    "(match_results_bis['win_rate_smooth'] + match_results_bis['draw_rate_smooth'] + match_results_bis['loss_rate_smooth']).value_counts()"
   ]
  },
  {
   "cell_type": "code",
   "execution_count": null,
   "metadata": {},
   "outputs": [],
   "source": [
    "#| label: match_distribution_over_coach_tenure\n",
    "# Create a histogram of 'match_count' over 'days_in_post'\n",
    "plt.figure(figsize=(10, 6))\n",
    "sns.histplot(data=match_results_bis, x='days_in_post', weights='match_count', bins=30)\n",
    "plt.xlabel('Days in Post')\n",
    "plt.ylabel('Match Count')\n",
    "plt.title('Distribution of Matches Played Over Head Coach Tenure')\n",
    "plt.show()"
   ]
  },
  {
   "cell_type": "code",
   "execution_count": null,
   "metadata": {},
   "outputs": [],
   "source": [
    "def plot_proportion_over_coach_tenure(data):\n",
    "    # Create a figure\n",
    "    plt.figure(figsize=(8, 4))\n",
    "\n",
    "    plt.stackplot(data.index, data['win_rate_smooth'], data['draw_rate_smooth'], data['loss_rate_smooth'], labels=['Win', 'Draw', 'Loss'], colors=['green', 'gray', 'red'], alpha=0.5)\n",
    "\n",
    "    # Add legend and labels\n",
    "    plt.legend(loc='upper left')\n",
    "    plt.xlabel('Head Coach Tenure')\n",
    "    plt.ylabel('Proportion of Match Outcome')\n",
    "    plt.title('Proportion of Match Outcome Over Head Coach Tenure (30-day weighted rolling average)')\n",
    "\n",
    "    # Save the figure\n",
    "    plt.savefig('figures/proportion_over_coach_tenure.png')\n",
    "    plt.show()"
   ]
  },
  {
   "cell_type": "code",
   "execution_count": null,
   "metadata": {},
   "outputs": [],
   "source": [
    "#| label: match_outcome_over_coach_tenure\n",
    "plot_proportion_over_coach_tenure(match_results_bis)"
   ]
  }
 ],
 "metadata": {
  "kernelspec": {
   "display_name": "Python 3 (ipykernel)",
   "language": "python",
   "name": "python3"
  },
  "language_info": {
   "codemirror_mode": {
    "name": "ipython",
    "version": 3
   },
   "file_extension": ".py",
   "mimetype": "text/x-python",
   "name": "python",
   "nbconvert_exporter": "python",
   "pygments_lexer": "ipython3",
   "version": "3.11.8"
  }
 },
 "nbformat": 4,
 "nbformat_minor": 4
}
