{
 "cells": [
  {
   "cell_type": "markdown",
   "metadata": {},
   "source": [
    "---\n",
    "title: Preprocessing\n",
    "description: Preprocessing the data for future use\n",
    "output_matplotlib_strings: remove\n",
    "---"
   ]
  },
  {
   "cell_type": "code",
   "execution_count": null,
   "metadata": {},
   "outputs": [],
   "source": [
    "import pandas as pd\n",
    "\n",
    "match_results = pd.read_csv('data/extracted_match_results.csv', parse_dates=['date'])\n",
    "head_coach = pd.read_csv('data/extracted_head_coach.csv', parse_dates=['appointed', 'end_date'])\n",
    "\n",
    "match_results.drop(columns = ['match_url'], inplace = True)\n",
    "match_results.rename(columns = {'home': 'home_team', 'away': 'away_team'}, inplace = True)\n",
    "head_coach.drop(columns = ['staff_url'], inplace = True)\n",
    "head_coach.rename(columns = {'team_name': 'team'}, inplace = True)\n",
    "\n",
    "display(match_results.head())\n",
    "display(head_coach.head())"
   ]
  },
  {
   "cell_type": "markdown",
   "metadata": {},
   "source": [
    "### Team's name"
   ]
  },
  {
   "cell_type": "code",
   "execution_count": null,
   "metadata": {},
   "outputs": [],
   "source": [
    "# Compute number of team that are in head_coach but not in match_results\n",
    "coach_team = set(head_coach['team'])\n",
    "match_team = set(match_results['home_team']) | set(match_results['away_team'])\n",
    "coach_team_not_in_match = coach_team - match_team\n",
    "match_team_not_in_coach = match_team - coach_team\n",
    "\n",
    "len(coach_team_not_in_match), len(match_team_not_in_coach)"
   ]
  },
  {
   "cell_type": "markdown",
   "metadata": {},
   "source": [
    "In total, match_results dataset contains {eval}`len(match_team)` teams and head_coach dataset contains {eval}`len(coach_team)` teams. However some teams name are different between the two datasets. For example 'Liverpool' in match_results is 'Liverpool FC' in head_coach. This is problematic as we will need to join data on team's columns.\n",
    "\n",
    "In total there is {eval}`len(coach_team_not_in_match)` teams present in match_results but not in head_coach and {eval}`len(match_team_not_in_coach)` teams present in head_coach but not in match_results. It indicates that despite mismatched names, that there are several teams present in match_results which do not have records of a coach. (needs more explaination in Data Extraction about data and why this is surprising based on how we filter head coach to at least include latest head coach).\n",
    "\n",
    "Addressing this surprise ..."
   ]
  },
  {
   "cell_type": "markdown",
   "metadata": {},
   "source": [
    "To address mismatched teams name we will use Levenshtein Distance (add reference to paper) to match team's name of head_coach missing in match teams with match teams."
   ]
  },
  {
   "cell_type": "code",
   "execution_count": null,
   "metadata": {},
   "outputs": [],
   "source": [
    "from thefuzz import process\n",
    "\n",
    "def match_names(name, list_names, min_score=0):\n",
    "    scores = process.extract(name, list_names, limit=1)\n",
    "    \n",
    "    if len(scores) > 0 and scores[0][1] >= min_score:\n",
    "        return scores[0][0]\n",
    "    return None\n",
    "\n",
    "name_match = {}\n",
    "\n",
    "for team in coach_team:\n",
    "    match = match_names(team, match_team, min_score=60)\n",
    "    if match is not None:\n",
    "        name_match[team] = match\n",
    "    else:\n",
    "        name_match[team] = None\n",
    "        print(f\"No match found for {team}\")\n",
    "\n",
    "# Show name_match\n",
    "for team, match in name_match.items():\n",
    "    print(f\"{team:30} matched with {match}\")"
   ]
  },
  {
   "cell_type": "code",
   "execution_count": null,
   "metadata": {},
   "outputs": [],
   "source": [
    "# # Fix some names\n",
    "# name_match['Inter Milan'] = 'Inter'\n",
    "# name_match['AC Milan'] = 'Milan'\n",
    "# name_match['Stade Rennais FC'] = 'Rennes'\n",
    "\n",
    "# Ensure everything map\n",
    "for team in coach_team:\n",
    "    if name_match[team] is None:\n",
    "        print(f\"No match found for {team}\")"
   ]
  },
  {
   "cell_type": "code",
   "execution_count": null,
   "metadata": {},
   "outputs": [],
   "source": [
    "# Map head_coach['team'] with name_match\n",
    "head_coach['team'] = head_coach['team'].map(name_match)"
   ]
  },
  {
   "cell_type": "markdown",
   "metadata": {},
   "source": [
    "### To-Do\n",
    "\n",
    "- investigate NaN values\n",
    "- investigate inf and -inf values"
   ]
  },
  {
   "cell_type": "markdown",
   "metadata": {},
   "source": [
    "### Saving preprocessed data"
   ]
  },
  {
   "cell_type": "code",
   "execution_count": null,
   "metadata": {},
   "outputs": [],
   "source": [
    "# Save match_results\n",
    "match_results.to_csv('data/match_results.csv', index=False)\n",
    "head_coach.to_csv('data/head_coach.csv', index=False)"
   ]
  }
 ],
 "metadata": {
  "kernelspec": {
   "display_name": "Python 3 (ipykernel)",
   "language": "python",
   "name": "python3"
  },
  "language_info": {
   "codemirror_mode": {
    "name": "ipython",
    "version": 3
   },
   "file_extension": ".py",
   "mimetype": "text/x-python",
   "name": "python",
   "nbconvert_exporter": "python",
   "pygments_lexer": "ipython3",
   "version": "3.11.8"
  }
 },
 "nbformat": 4,
 "nbformat_minor": 4
}
