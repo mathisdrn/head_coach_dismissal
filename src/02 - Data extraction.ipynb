{
 "cells": [
  {
   "cell_type": "markdown",
   "id": "0",
   "metadata": {},
   "source": [
    "---\n",
    "title: Data extraction\n",
    "description: We proceed to extract dataset using WorldFootballR library from Fbref and ...\n",
    "---"
   ]
  },
  {
   "cell_type": "code",
   "execution_count": null,
   "id": "1",
   "metadata": {
    "vscode": {
     "languageId": "r"
    }
   },
   "outputs": [],
   "source": [
    "if (!require(worldfootballR)) { \n",
    "  install.packages(\"worldfootballR\")\n",
    "}\n",
    "\n",
    "if (!require(data.table)) {\n",
    "  install.packages(\"data.table\")\n",
    "}\n",
    "\n",
    "library(worldfootballR)\n",
    "library(data.table)"
   ]
  },
  {
   "cell_type": "markdown",
   "id": "2",
   "metadata": {
    "vscode": {
     "languageId": "r"
    }
   },
   "source": [
    "### Les données sur les matchs"
   ]
  },
  {
   "cell_type": "code",
   "execution_count": null,
   "id": "3",
   "metadata": {
    "vscode": {
     "languageId": "r"
    }
   },
   "outputs": [],
   "source": [
    "country <- c(\"ENG\", \"ESP\", \"ITA\", \"GER\", \"FRA\")\n",
    "year <- c(2018, 2019, 2020, 2021, 2022)\n",
    "result <- fb_match_results(country = country, gender = \"M\", season_end_year = year, tier = \"1st\")"
   ]
  },
  {
   "cell_type": "code",
   "execution_count": null,
   "id": "4",
   "metadata": {
    "vscode": {
     "languageId": "r"
    }
   },
   "outputs": [],
   "source": [
    "column_to_drop <- c('Gender', 'Day', 'Wk', 'Time', 'Venue', 'Referee', 'Attendance', 'Home_xG', 'Away_xG', 'Notes', 'Round')\n",
    "result <- result[, !(names(result) %in% column_to_drop)]\n",
    "# Rename result$Competition_Name of 'Fu\\303\\237ball-Bundesliga' to 'Bundesliga'\n",
    "result$Competition_Name[result$Competition_Name == 'Fu\\303\\237ball-Bundesliga'] <- 'Bundesliga'\n",
    "# Rename columns of result dataframe\n",
    "names(result) <- c('league', 'country', 'season_year', 'date', 'home', 'home_goals', 'away', 'away_goals', 'match_url')\n",
    "# Rename country code to country name\n",
    "match_country <- c('ENG' = 'England', 'ITA' = 'Italy', 'FRA' = 'France', 'GER' = 'Germany', 'ESP' = 'Spain')\n",
    "result$country <- match_country[result$country]"
   ]
  },
  {
   "cell_type": "markdown",
   "id": "5",
   "metadata": {},
   "source": [
    "Nous avons récupéré les données pour les ligues suivante : {eval}`paste(unique(result$league), collapse = \", \")`. Cela concerne {eval}`nrow(result)` matchs pour la période {eval}`min(year)` à {eval}`max(year)`. "
   ]
  },
  {
   "cell_type": "code",
   "execution_count": null,
   "id": "6",
   "metadata": {
    "vscode": {
     "languageId": "r"
    }
   },
   "outputs": [],
   "source": [
    "head(result, 4)"
   ]
  },
  {
   "cell_type": "code",
   "execution_count": null,
   "id": "7",
   "metadata": {
    "vscode": {
     "languageId": "r"
    }
   },
   "outputs": [],
   "source": [
    "# Save result in 'data/match_results.csv'\n",
    "fwrite(result, file = \"data/extracted_match_results.csv\", quote = \"auto\")"
   ]
  },
  {
   "cell_type": "markdown",
   "id": "8",
   "metadata": {},
   "source": [
    "### Les données sur les entraîneurs-chefs"
   ]
  },
  {
   "cell_type": "code",
   "execution_count": null,
   "id": "9",
   "metadata": {
    "vscode": {
     "languageId": "r"
    }
   },
   "outputs": [],
   "source": [
    "country <- c(\"England\", \"Spain\", \"Italy\", \"Germany\", \"France\")\n",
    "\n",
    "# Créer le vecteur teams_url\n",
    "teams_url <- c()\n",
    "for (i in seq_along(country)) {\n",
    "    team_url <- tm_league_team_urls(country_name = country[i], start_year = 2018)\n",
    "    print(paste(country[i], \":\", length(team_url), \"teams\"))\n",
    "    teams_url <- c(teams_url, team_url)\n",
    "}"
   ]
  },
  {
   "cell_type": "code",
   "execution_count": null,
   "id": "10",
   "metadata": {
    "vscode": {
     "languageId": "r"
    }
   },
   "outputs": [],
   "source": [
    "head_coach <- tm_team_staff_history(team_urls = teams_url, staff_role = \"Manager\")\n",
    "print(paste(nrow(head_coach), \"head coaches records\"))"
   ]
  },
  {
   "cell_type": "code",
   "execution_count": null,
   "id": "11",
   "metadata": {
    "vscode": {
     "languageId": "r"
    }
   },
   "outputs": [],
   "source": [
    "# match_results$league : 'Premier League''La Liga''Ligue 1''Bundesliga''Serie A'\n",
    "unique(head_coach$league)\n",
    "league <- c('Premier League', 'LaLiga', 'Ligue 1', 'Bundesliga', 'Serie A')\n",
    "head_coach_bis <- head_coach[head_coach$league %in% league,]\n",
    "paste(nrow(head_coach_bis), \"head coaches records for leagues of interests\")"
   ]
  },
  {
   "cell_type": "markdown",
   "id": "12",
   "metadata": {},
   "source": [
    "Leagues in which we are collecting data : {eval}`unique(head_coach$league)`\n",
    "\n",
    "{eval}`nrow(head_coach_bis)` head coaches records for leagues of interests"
   ]
  },
  {
   "cell_type": "code",
   "execution_count": null,
   "id": "13",
   "metadata": {
    "vscode": {
     "languageId": "r"
    }
   },
   "outputs": [],
   "source": [
    "# Select head-coach that have been active between 2018 and 2022\n",
    "head_coach_bis <- head_coach_bis[is.na(head_coach_bis$end_date) | head_coach_bis$end_date >= \"2018-01-01\",]\n",
    "head_coach_bis <- head_coach_bis[head_coach_bis$appointed <= \"2022-12-31\",]\n",
    "paste(nrow(head_coach_bis), \"head coaches records for leagues of interests active between 2018 and 2022\")\n",
    "# Drop column\n",
    "column_to_drop <- c(\"staff_role\", \"ppg\")\n",
    "head_coach_bis <- head_coach_bis[, !(names(head_coach_bis) %in% column_to_drop)]\n",
    "# Rename staff_name column to coach_name\n",
    "names(head_coach_bis)[names(head_coach_bis) == \"staff_name\"] <- \"coach_name\""
   ]
  },
  {
   "cell_type": "code",
   "execution_count": null,
   "id": "14",
   "metadata": {
    "vscode": {
     "languageId": "r"
    }
   },
   "outputs": [],
   "source": [
    "# Save in 'data/head_coach.csv'\n",
    "fwrite(head_coach_bis, file = \"data/extracted_head_coach.csv\", quote = \"auto\")"
   ]
  }
 ],
 "metadata": {
  "jupytext": {
   "cell_metadata_filter": "eval,-all",
   "main_language": "R",
   "notebook_metadata_filter": "-all"
  },
  "kernelspec": {
   "display_name": "R",
   "language": "R",
   "name": "ir"
  },
  "language_info": {
   "codemirror_mode": "r",
   "file_extension": ".r",
   "mimetype": "text/x-r-source",
   "name": "R",
   "pygments_lexer": "r",
   "version": "4.3.2"
  }
 },
 "nbformat": 4,
 "nbformat_minor": 5
}
