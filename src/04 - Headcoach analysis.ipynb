{
 "cells": [
  {
   "cell_type": "markdown",
   "metadata": {},
   "source": [
    "---\n",
    "title: Head coach Exploratory data analysis\n",
    "description: djaziodza\n",
    "output_matplotlib_strings: remove\n",
    "---"
   ]
  },
  {
   "cell_type": "markdown",
   "metadata": {},
   "source": [
    "### Imports"
   ]
  },
  {
   "cell_type": "code",
   "execution_count": null,
   "metadata": {},
   "outputs": [],
   "source": [
    "import numpy as np\n",
    "import pandas as pd\n",
    "from matplotlib import pyplot as plt\n",
    "import matplotlib.dates as mdates\n",
    "import matplotlib.ticker as ticker\n",
    "import matplotlib.colors as mcolors\n",
    "import matplotlib.cm as cm\n",
    "import seaborn as sns\n",
    "\n",
    "from scipy.stats import pearsonr, pointbiserialr\n",
    "from IPython.display import display, Markdown, HTML\n",
    "from datetime import datetime\n",
    "\n",
    "sns.set_style()\n",
    "sns.set_theme(style = 'ticks', palette = 'pastel')\n",
    "plt.rcParams['figure.autolayout'] = True\n",
    "plt.rcParams['savefig.bbox'] = 'tight'\n",
    "sns.set_context(\"paper\")\n",
    "\n",
    "plt.rcParams['savefig.dpi'] = 300\n",
    "plt.rcParams['savefig.bbox'] = 'tight'\n",
    "plt.rcParams['savefig.directory'] = 'figures'\n"
   ]
  },
  {
   "cell_type": "markdown",
   "metadata": {},
   "source": [
    "### Loading data"
   ]
  },
  {
   "cell_type": "code",
   "execution_count": null,
   "metadata": {},
   "outputs": [],
   "source": [
    "head_coach = pd.read_csv('data/head_coach.csv', parse_dates=['appointed', 'end_date'])"
   ]
  },
  {
   "cell_type": "markdown",
   "metadata": {
    "user_expressions": [
     {
      "expression": "min_year.strftime(\"%m/%d/%Y\")",
      "result": {
       "data": {
        "text/plain": "'08/04/2017'"
       },
       "metadata": {},
       "status": "ok"
      }
     },
     {
      "expression": "max_year.strftime(\"%m/%d/%Y\")",
      "result": {
       "data": {
        "text/plain": "'05/29/2022'"
       },
       "metadata": {},
       "status": "ok"
      }
     },
     {
      "expression": "len(match_results)",
      "result": {
       "data": {
        "text/plain": "9148"
       },
       "metadata": {},
       "status": "ok"
      }
     },
     {
      "expression": "\", \".join(match_results['league'].unique().tolist())",
      "result": {
       "data": {
        "text/plain": "'Premier League, La Liga, Ligue 1, Bundesliga, Serie A'"
       },
       "metadata": {},
       "status": "ok"
      }
     }
    ]
   },
   "source": [
    "### General information about data\n",
    "\n",
    "Data collected from match results ranges from {eval}`min_year.strftime(\"%m/%d/%Y\")` to {eval}`max_year.strftime(\"%m/%d/%Y\")` and contains the results of {eval}`len(match_results)` matches.\n",
    "\n",
    "Matches have been collected for the following leagues : **{eval}`\", \".join(match_results['league'].unique().tolist())`**"
   ]
  },
  {
   "cell_type": "code",
   "execution_count": null,
   "metadata": {},
   "outputs": [],
   "source": [
    "long_tenure = head_coach[head_coach['days_in_post'] > 3000].shape[0]\n",
    "head_coach = head_coach[head_coach['days_in_post'] <= 3000]"
   ]
  },
  {
   "cell_type": "markdown",
   "metadata": {},
   "source": [
    "We will exclude head coaches with more than 3000 days in post. There are {eval}`long_tenure` head coaches with more than 3000 days in post.\n",
    "\n",
    "To-Do : Explain that those are outliers\n"
   ]
  },
  {
   "cell_type": "markdown",
   "metadata": {},
   "source": [
    "### Basic plots"
   ]
  },
  {
   "cell_type": "code",
   "execution_count": null,
   "metadata": {},
   "outputs": [],
   "source": [
    "# Useful to add xtick months to dayofyear plot\n",
    "months = pd.date_range('2022-01-01', '2022-12-31', freq='ME').strftime('%b').tolist()"
   ]
  },
  {
   "cell_type": "code",
   "execution_count": null,
   "metadata": {},
   "outputs": [],
   "source": [
    "#| label: hc_appointment\n",
    "plt.figure()\n",
    "sns.histplot(head_coach['appointed'].dt.month, bins=11, color = 'b', kde=False, stat='density')\n",
    "plt.gca().yaxis.set_major_formatter(ticker.PercentFormatter(xmax=1))\n",
    "plt.xticks(range(1, 13), months)\n",
    "# plt.title('Monthly Distribution of Head Coach Appointments')\n",
    "plt.xlabel('Month')\n",
    "plt.ylabel('Proportion')\n",
    "plt.grid(axis='y', linestyle='--', alpha=0.8)\n",
    "# plt.savefig('figures/hc_appointment.png')"
   ]
  },
  {
   "cell_type": "code",
   "execution_count": null,
   "metadata": {},
   "outputs": [],
   "source": [
    "#| label: hc_dismissal\n",
    "# Plot for Head Coach dismissal distribution\n",
    "plt.figure()\n",
    "sns.histplot(head_coach['end_date'].dt.month, bins=11, color = 'r', kde=False, stat='density')\n",
    "plt.xticks(range(1, 13), months)\n",
    "plt.gca().yaxis.set_major_formatter(ticker.PercentFormatter(xmax=1))\n",
    "plt.title('Monthly Distribution of Head Coach Dismissals')\n",
    "plt.xlabel('Month')\n",
    "plt.ylabel('Proportion')\n",
    "plt.grid(axis='y', linestyle='--', alpha=0.8)\n",
    "# plt.savefig('figures/hc_dismissal.png')"
   ]
  },
  {
   "cell_type": "code",
   "execution_count": null,
   "metadata": {},
   "outputs": [],
   "source": [
    "head_coach_dismissed = head_coach[head_coach['end_date'].notnull()]"
   ]
  },
  {
   "cell_type": "code",
   "execution_count": null,
   "metadata": {},
   "outputs": [],
   "source": [
    "#| label: hc_tenure\n",
    "# Plot ECDF of head_coach tenure \n",
    "plt.figure(figsize=(8, 4))\n",
    "\n",
    "sns.ecdfplot(data=head_coach_dismissed, x='days_in_post', stat = 'percent')\n",
    "plt.ylabel('Percentage of Head Coaches')\n",
    "# Format percentage\n",
    "plt.gca().yaxis.set_major_formatter(ticker.PercentFormatter(xmax=100))\n",
    "# Grid\n",
    "plt.grid(axis='y', linestyle='-', alpha=0.8)\n",
    "plt.grid(axis='x', linestyle='-', alpha=0.8)\n",
    "plt.xticks(range(0, max(head_coach_dismissed['days_in_post']) + 365, 365))\n",
    "# plt.xlim(0, head_coach_dismissed['days_in_post'].quantile(0.97))\n",
    "plt.title('Cumulative distribution of Head Coaches tenure')\n",
    "plt.xlabel('Head Coaches tenure (days)')\n",
    "# plt.savefig('figures/hc_tenure.png')"
   ]
  },
  {
   "cell_type": "markdown",
   "metadata": {},
   "source": [
    "En moyenne, les coachs sont restés en poste {eval}`round(head_coach_dismissed['days_in_post'].mean())` jours."
   ]
  },
  {
   "cell_type": "code",
   "execution_count": null,
   "metadata": {},
   "outputs": [],
   "source": [
    "#| label: hc_tenure_per_league\n",
    "# Average days in post per league \n",
    "\n",
    "# Calculate average days in post per league\n",
    "avg_days_in_post = head_coach_dismissed.groupby('league')['days_in_post'].mean()\n",
    "avg_days_in_post = avg_days_in_post.sort_values()\n",
    "\n",
    "# Plot average days in post per league\n",
    "plt.figure()\n",
    "sns.barplot(y=avg_days_in_post.index, x=avg_days_in_post.values, orient='h')\n",
    "plt.title('Average Head Coach tenure per league between xx and xx')\n",
    "plt.xlabel('Head Coach tenure (days)')\n",
    "plt.tick_params(axis='y', which='both', length=0)\n",
    "# Disable ylabel\n",
    "plt.ylabel('')\n",
    "\n",
    "# plt.savefig('figures/hc_tenure_per_league.png')"
   ]
  },
  {
   "cell_type": "code",
   "execution_count": null,
   "metadata": {},
   "outputs": [],
   "source": [
    "#| label: club_per_hc\n",
    "# Number of clubs per Head Coach\n",
    "\n",
    "# Group by coach_name and count the number of clubs\n",
    "club_per_coach = head_coach.groupby('coach_name').size().reset_index(name='count')\n",
    "\n",
    "plt.figure()\n",
    "sns.histplot(x='count', data = club_per_coach, discrete = True, stat=\"probability\")\n",
    "plt.xticks(range(1, club_per_coach['count'].max() + 1))\n",
    "plt.gca().yaxis.set_major_formatter(ticker.PercentFormatter(xmax=1))\n",
    "plt.title('Number of clubs per Head Coach between xx and xx')\n",
    "plt.xlabel('Number of clubs')\n",
    "plt.ylabel('Proportion of Head Coaches')\n",
    "# plt.savefig('figures/number_of_club_per_coach.png')"
   ]
  },
  {
   "cell_type": "code",
   "execution_count": null,
   "metadata": {},
   "outputs": [],
   "source": [
    "#| label: hc_per_club\n",
    "# Number of Head Coachs per club\n",
    "\n",
    "# Group by team and count the number of head coach\n",
    "coach_per_club = head_coach.groupby('team').size().reset_index(name='count')\n",
    "\n",
    "plt.figure()\n",
    "sns.histplot(x='count', data = coach_per_club, discrete=True, stat=\"probability\")\n",
    "plt.xticks(range(1, coach_per_club['count'].max() + 1))\n",
    "plt.gca().yaxis.set_major_formatter(ticker.PercentFormatter(xmax=1))\n",
    "plt.title(f'Number of Head Coach per club between xxx to xxx')\n",
    "plt.xlabel('Number of head coach')\n",
    "plt.ylabel('Proportion of clubs')\n",
    "# plt.savefig('figures/number_of_coach_per_club.png')"
   ]
  },
  {
   "cell_type": "code",
   "execution_count": null,
   "metadata": {},
   "outputs": [],
   "source": [
    "#| label: hc_per_club_per_league\n",
    "# Average number of coach per club per league \n",
    "\n",
    "# Calculate average number of coach per club per league\n",
    "coach_per_team = head_coach.groupby(['league', 'team']).size()\n",
    "avg_number_of_coach_per_club_per_league = coach_per_team.groupby('league').mean().sort_values()\n",
    "\n",
    "# Plot average number of coach per club per league\n",
    "plt.figure()\n",
    "sns.barplot(x=avg_number_of_coach_per_club_per_league.values, y=avg_number_of_coach_per_club_per_league.index, orient='h')\n",
    "plt.title('Average number of coach per club per league between xx and xx')\n",
    "plt.ylabel('')\n",
    "plt.xlabel('Average number of coach per club')\n",
    "# plt.savefig('figures/hc_per_club_per_league.png')"
   ]
  },
  {
   "cell_type": "code",
   "execution_count": null,
   "metadata": {},
   "outputs": [],
   "source": [
    "# Plot of wins, draw and losses percentage over days in post\n",
    "head_coach['win_percentage'] = head_coach['wins'] / head_coach['matches'] * 100\n",
    "head_coach['draw_percentage'] = head_coach['draws'] / head_coach['matches'] * 100\n",
    "head_coach['loss_percentage'] = head_coach['losses'] / head_coach['matches'] * 100\n",
    "\n",
    "def plot_percentage_over_days(data, y_value, y_leg, color):\n",
    "    plt.figure()\n",
    "    sns.regplot(x='days_in_post', y=y_value, data=data, color=sns.light_palette(color, as_cmap=True)(0.4), scatter_kws={'alpha':0.5}, label = y_leg + ' ratio')\n",
    "    \n",
    "    plt.title(f'{y_leg} ratio of Head Coaches appointments over Head Coaches tenure in club')\n",
    "    ## x = head coach tenure in a club\n",
    "    ## y = win/draw/loss ratio under the appointment of the head coach\n",
    "    plt.xlabel('Head Coach tenure (days)')\n",
    "    plt.ylabel(f'{y_leg.capitalize()} percentage')\n",
    "    plt.gca().yaxis.set_major_formatter(ticker.PercentFormatter(xmax=100))\n",
    "\n",
    "    # Calculate Pearson correlation coefficient\n",
    "    r, p = pearsonr(data['days_in_post'], data[y_value])\n",
    "    plt.legend([f'Pearson correlation : r = {r:.2f}, p = {p:.2f}'], loc='upper right')\n",
    "    \n",
    "    # plt.savefig(f'figures/{y_value}_over_hc_tenure.png')"
   ]
  },
  {
   "cell_type": "code",
   "execution_count": null,
   "metadata": {},
   "outputs": [],
   "source": [
    "#| label: hc_win_ratio_over_days\n",
    "plot_percentage_over_days(head_coach, 'win_percentage', 'Win', 'green')"
   ]
  },
  {
   "cell_type": "code",
   "execution_count": null,
   "metadata": {},
   "outputs": [],
   "source": [
    "#| label: hc_draw_ratio_over_days\n",
    "plot_percentage_over_days(head_coach, 'draw_percentage', 'Draw', 'gray')"
   ]
  },
  {
   "cell_type": "code",
   "execution_count": null,
   "metadata": {},
   "outputs": [],
   "source": [
    "#| label: hc_loss_ratio_over_days\n",
    "plot_percentage_over_days(head_coach, 'loss_percentage', 'Loss', 'red')"
   ]
  },
  {
   "cell_type": "code",
   "execution_count": null,
   "metadata": {},
   "outputs": [],
   "source": [
    "# Plot match outcome of clubs over number of coach seen by club\n",
    "\n",
    "club_results = head_coach.groupby('team').agg({'wins': 'sum', 'draws': 'sum', 'losses': 'sum', 'matches': 'sum', 'coach_name': 'count'})\n",
    "club_results = club_results.rename(columns={'coach_name': 'coach_count'})\n",
    "club_results['win_percentage'] = club_results['wins'] / club_results['matches'] * 100\n",
    "club_results['draw_percentage'] = club_results['draws'] / club_results['matches'] * 100\n",
    "club_results['loss_percentage'] = club_results['losses'] / club_results['matches'] * 100\n",
    "\n",
    "# Plot percentage over number of coach seen by club\n",
    "def plot_club_outcome(data, y_value, y_leg, color):\n",
    "    plt.figure()\n",
    "    sns.regplot(x='coach_count', y=y_value, data=data, color=sns.light_palette(color, as_cmap=True)(0.4), scatter_kws={'alpha':0.5}, label = y_leg + ' ratio')\n",
    "    # x = number of coach seen by club\n",
    "    # y = win/draw/loss ratio of the club\n",
    "    plt.title(f'{y_leg} ratio of clubs over the number of Head Coaches teams had between xx and xx')\n",
    "    plt.xlabel('Number of coach seen by club')\n",
    "    plt.ylabel(f'{y_leg} percentage')\n",
    "    plt.gca().yaxis.set_major_formatter(ticker.PercentFormatter(xmax=100))\n",
    "\n",
    "    r, p = pearsonr(data['coach_count'], data[y_value])\n",
    "    plt.legend([f'Pearson correlation : r = {r:.2f}, p = {p:.2f}'], loc='upper right')\n",
    "    \n",
    "    # plt.savefig(f'figures/{y_value}_over_club_hc_count.png')"
   ]
  },
  {
   "cell_type": "code",
   "execution_count": null,
   "metadata": {},
   "outputs": [],
   "source": [
    "#| label: club_win_ratio_over_coach_count\n",
    "plot_club_outcome(club_results, 'win_percentage', 'Win', 'green')"
   ]
  },
  {
   "cell_type": "code",
   "execution_count": null,
   "metadata": {},
   "outputs": [],
   "source": [
    "#| label: club_draw_ratio_over_coach_count\n",
    "plot_club_outcome(club_results, 'draw_percentage', 'Draw', 'gray')"
   ]
  },
  {
   "cell_type": "code",
   "execution_count": null,
   "metadata": {},
   "outputs": [],
   "source": [
    "#| label: club_loss_ratio_over_coach_count\n",
    "plot_club_outcome(club_results, 'loss_percentage', 'Loss', 'red')"
   ]
  },
  {
   "cell_type": "code",
   "execution_count": null,
   "metadata": {},
   "outputs": [],
   "source": [
    "# Plot of wins, draw and losses percentage over number of club head coach has been\n",
    "\n",
    "head_coach_performance = head_coach.groupby('coach_name').agg({'matches': 'sum', 'wins': 'sum', 'draws': 'sum', 'losses': 'sum', 'team': 'count'}).reset_index()\n",
    "head_coach_performance = head_coach_performance.rename(columns={'team': 'club_count'})\n",
    "head_coach_performance['win_percentage'] = head_coach_performance['wins'] / head_coach_performance['matches'] * 100\n",
    "head_coach_performance['draw_percentage'] = head_coach_performance['draws'] / head_coach_performance['matches'] * 100\n",
    "head_coach_performance['loss_percentage'] = head_coach_performance['losses'] / head_coach_performance['matches'] * 100\n",
    "\n",
    "# Linear regression plot for wins, draw and losses percentage over number of club head coach has been\n",
    "\n",
    "def plot_percentage_over_club_count(data, y_value, y_leg, color):\n",
    "    plt.figure()\n",
    "    sns.regplot(x='club_count', y=y_value, data=data, color = sns.light_palette(color, as_cmap=True)(0.4), scatter_kws={'alpha':0.5}, label = y_leg + ' ratio')\n",
    "    # x = number of club head coach has worked for\n",
    "    # y = win/draw/loss ratio of the head coach over all clubs\n",
    "    plt.title(f'{y_leg.capitalize()} ratio of Head Coaches over number of clubs Head Coaches worked for')\n",
    "    plt.xticks(range(1, data['club_count'].max() + 1))\n",
    "    plt.xlabel('Number of clubs Head Coach have worked for')\n",
    "    plt.ylabel(f'{y_leg.capitalize()} percentage')\n",
    "    plt.gca().yaxis.set_major_formatter(ticker.PercentFormatter(xmax=100))\n",
    "\n",
    "    r, p = pearsonr(data['club_count'], data[y_value])\n",
    "    plt.legend([f'Pearson correlation : r = {r:.2f}, p = {p:.2f}'], loc='upper right')\n",
    "    \n",
    "    # plt.savefig(f'figures/{y_value}_over_club_per_hc_count.png')"
   ]
  },
  {
   "cell_type": "code",
   "execution_count": null,
   "metadata": {},
   "outputs": [],
   "source": [
    "#| label: hc_win_ratio_over_club_count\n",
    "plot_percentage_over_club_count(head_coach_performance, 'win_percentage', 'win', 'green')\n"
   ]
  },
  {
   "cell_type": "code",
   "execution_count": null,
   "metadata": {},
   "outputs": [],
   "source": [
    "#| label: hc_draw_ratio_over_club_count\n",
    "plot_percentage_over_club_count(head_coach_performance, 'draw_percentage', 'draw', 'gray')"
   ]
  },
  {
   "cell_type": "code",
   "execution_count": null,
   "metadata": {},
   "outputs": [],
   "source": [
    "#| label: hc_loss_ratio_over_club_count\n",
    "plot_percentage_over_club_count(head_coach_performance, 'loss_percentage', 'loss', 'red')"
   ]
  }
 ],
 "metadata": {
  "kernelspec": {
   "display_name": "TER",
   "language": "python",
   "name": "python3"
  },
  "language_info": {
   "codemirror_mode": {
    "name": "ipython",
    "version": 3
   },
   "file_extension": ".py",
   "mimetype": "text/x-python",
   "name": "python",
   "nbconvert_exporter": "python",
   "pygments_lexer": "ipython3",
   "version": "3.11.8"
  }
 },
 "nbformat": 4,
 "nbformat_minor": 4
}
