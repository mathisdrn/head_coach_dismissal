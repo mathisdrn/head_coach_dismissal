{
 "cells": [
  {
   "cell_type": "markdown",
   "metadata": {},
   "source": [
    "---\n",
    "title: Exploratory Data Analysis\n",
    "---"
   ]
  },
  {
   "cell_type": "code",
   "execution_count": 1,
   "metadata": {},
   "outputs": [],
   "source": [
    "import pandas as pd\n",
    "from math import floor\n",
    "from utils.plotting import *"
   ]
  },
  {
   "cell_type": "markdown",
   "metadata": {},
   "source": [
    "### EDA of match_results "
   ]
  },
  {
   "cell_type": "code",
   "execution_count": 2,
   "metadata": {},
   "outputs": [
    {
     "data": {
      "text/html": [
       "<div>\n",
       "<style scoped>\n",
       "    .dataframe tbody tr th:only-of-type {\n",
       "        vertical-align: middle;\n",
       "    }\n",
       "\n",
       "    .dataframe tbody tr th {\n",
       "        vertical-align: top;\n",
       "    }\n",
       "\n",
       "    .dataframe thead th {\n",
       "        text-align: right;\n",
       "    }\n",
       "</style>\n",
       "<table border=\"1\" class=\"dataframe\">\n",
       "  <thead>\n",
       "    <tr style=\"text-align: right;\">\n",
       "      <th></th>\n",
       "      <th>League</th>\n",
       "      <th>Country</th>\n",
       "      <th>Date</th>\n",
       "      <th>Team</th>\n",
       "      <th>Goals</th>\n",
       "      <th>Result</th>\n",
       "      <th>isHome</th>\n",
       "      <th>HeadCoach</th>\n",
       "      <th>DaysInPost</th>\n",
       "    </tr>\n",
       "  </thead>\n",
       "  <tbody>\n",
       "    <tr>\n",
       "      <th>0</th>\n",
       "      <td>Premier League</td>\n",
       "      <td>England</td>\n",
       "      <td>2017-08-11</td>\n",
       "      <td>Arsenal</td>\n",
       "      <td>4.0</td>\n",
       "      <td>win</td>\n",
       "      <td>True</td>\n",
       "      <td>Arsène Wenger</td>\n",
       "      <td>7619.0</td>\n",
       "    </tr>\n",
       "    <tr>\n",
       "      <th>1</th>\n",
       "      <td>Premier League</td>\n",
       "      <td>England</td>\n",
       "      <td>2017-08-12</td>\n",
       "      <td>Chelsea</td>\n",
       "      <td>2.0</td>\n",
       "      <td>loss</td>\n",
       "      <td>True</td>\n",
       "      <td>Antonio Conte</td>\n",
       "      <td>407.0</td>\n",
       "    </tr>\n",
       "    <tr>\n",
       "      <th>2</th>\n",
       "      <td>Premier League</td>\n",
       "      <td>England</td>\n",
       "      <td>2017-08-12</td>\n",
       "      <td>Brighton</td>\n",
       "      <td>0.0</td>\n",
       "      <td>loss</td>\n",
       "      <td>True</td>\n",
       "      <td>Chris Hughton</td>\n",
       "      <td>955.0</td>\n",
       "    </tr>\n",
       "    <tr>\n",
       "      <th>3</th>\n",
       "      <td>Premier League</td>\n",
       "      <td>England</td>\n",
       "      <td>2017-08-13</td>\n",
       "      <td>Newcastle Utd</td>\n",
       "      <td>0.0</td>\n",
       "      <td>loss</td>\n",
       "      <td>True</td>\n",
       "      <td>Rafael Benítez</td>\n",
       "      <td>520.0</td>\n",
       "    </tr>\n",
       "    <tr>\n",
       "      <th>4</th>\n",
       "      <td>Premier League</td>\n",
       "      <td>England</td>\n",
       "      <td>2017-08-13</td>\n",
       "      <td>Manchester Utd</td>\n",
       "      <td>4.0</td>\n",
       "      <td>win</td>\n",
       "      <td>True</td>\n",
       "      <td>José Mourinho</td>\n",
       "      <td>408.0</td>\n",
       "    </tr>\n",
       "  </tbody>\n",
       "</table>\n",
       "</div>"
      ],
      "text/plain": [
       "           League  Country       Date            Team  Goals Result  isHome  \\\n",
       "0  Premier League  England 2017-08-11         Arsenal    4.0    win    True   \n",
       "1  Premier League  England 2017-08-12         Chelsea    2.0   loss    True   \n",
       "2  Premier League  England 2017-08-12        Brighton    0.0   loss    True   \n",
       "3  Premier League  England 2017-08-13   Newcastle Utd    0.0   loss    True   \n",
       "4  Premier League  England 2017-08-13  Manchester Utd    4.0    win    True   \n",
       "\n",
       "        HeadCoach  DaysInPost  \n",
       "0   Arsène Wenger      7619.0  \n",
       "1   Antonio Conte       407.0  \n",
       "2   Chris Hughton       955.0  \n",
       "3  Rafael Benítez       520.0  \n",
       "4   José Mourinho       408.0  "
      ]
     },
     "execution_count": 2,
     "metadata": {},
     "output_type": "execute_result"
    }
   ],
   "source": [
    "match_results = pd.read_csv('data/match_results.csv', parse_dates=['Date'])\n",
    "match_results.head()"
   ]
  },
  {
   "cell_type": "code",
   "execution_count": 3,
   "metadata": {},
   "outputs": [],
   "source": [
    "min_season = match_results['Date'].dt.year.min()\n",
    "max_season = match_results['Date'].dt.year.max()\n",
    "leagues = \", \".join(match_results['League'].unique())\n",
    "n_match = floor(len(match_results) / 2)\n",
    "n_team = match_results['Team'].nunique()\n",
    "n_team_no_coach = match_results.groupby(['Team'])['HeadCoach'].apply(lambda x: x.isnull().all()).sum()\n",
    "perc_match_no_coach = match_results['HeadCoach'].isnull().sum() / len(match_results) * 100\n",
    "n_unique_coach = match_results['HeadCoach'].nunique()\n",
    "n_unique_coach_records = match_results.groupby(['HeadCoach'])['Team'].nunique().reset_index(name='n_team').sort_values(by='n_team', ascending=False)"
   ]
  },
  {
   "cell_type": "markdown",
   "metadata": {
    "label": "match_data_summary"
   },
   "source": [
    "We collected matches results and head coach records from Men's Football First Divisions during {eval}`min_season` - {eval}`max_season` seasons for the following leagues : {eval}`n_leagues`.\n",
    "\n",
    "This amount to a total of {eval}`n_matches` matches across {eval}`n_teams` teams.\n",
    "Out of these {eval}`n_teams` we don't have any records of head coach for {eval}`n_teams_no_coach` teams.\n",
    "\n",
    "For certain team information about head coach is present but no throughout the study period. From match results this represent {eval}`perc_match_no_coach`% of the matches.\n",
    "\n",
    "There is a total of {eval}`n_unique_coach` unique head coaches in the dataset and {eval}`n_unique_coach_records` records of head coach appointments."
   ]
  },
  {
   "cell_type": "code",
   "execution_count": 4,
   "metadata": {},
   "outputs": [
    {
     "data": {
      "text/html": [
       "<div>\n",
       "<style scoped>\n",
       "    .dataframe tbody tr th:only-of-type {\n",
       "        vertical-align: middle;\n",
       "    }\n",
       "\n",
       "    .dataframe tbody tr th {\n",
       "        vertical-align: top;\n",
       "    }\n",
       "\n",
       "    .dataframe thead th {\n",
       "        text-align: right;\n",
       "    }\n",
       "</style>\n",
       "<table border=\"1\" class=\"dataframe\">\n",
       "  <thead>\n",
       "    <tr style=\"text-align: right;\">\n",
       "      <th></th>\n",
       "      <th></th>\n",
       "      <th>Number of Teams</th>\n",
       "      <th>Number of Matches</th>\n",
       "      <th>Average Goals per Match</th>\n",
       "    </tr>\n",
       "    <tr>\n",
       "      <th>League</th>\n",
       "      <th>Country</th>\n",
       "      <th></th>\n",
       "      <th></th>\n",
       "      <th></th>\n",
       "    </tr>\n",
       "  </thead>\n",
       "  <tbody>\n",
       "    <tr>\n",
       "      <th>Bundesliga</th>\n",
       "      <th>Germany</th>\n",
       "      <td>27</td>\n",
       "      <td>3025</td>\n",
       "      <td>1.53</td>\n",
       "    </tr>\n",
       "    <tr>\n",
       "      <th>La Liga</th>\n",
       "      <th>Spain</th>\n",
       "      <td>28</td>\n",
       "      <td>3753</td>\n",
       "      <td>1.28</td>\n",
       "    </tr>\n",
       "    <tr>\n",
       "      <th>Ligue 1</th>\n",
       "      <th>France</th>\n",
       "      <td>28</td>\n",
       "      <td>3620</td>\n",
       "      <td>1.36</td>\n",
       "    </tr>\n",
       "    <tr>\n",
       "      <th>Premier League</th>\n",
       "      <th>England</th>\n",
       "      <td>28</td>\n",
       "      <td>3706</td>\n",
       "      <td>1.37</td>\n",
       "    </tr>\n",
       "    <tr>\n",
       "      <th>Serie A</th>\n",
       "      <th>Italy</th>\n",
       "      <td>28</td>\n",
       "      <td>4049</td>\n",
       "      <td>1.44</td>\n",
       "    </tr>\n",
       "  </tbody>\n",
       "</table>\n",
       "</div>"
      ],
      "text/plain": [
       "                        Number of Teams  Number of Matches  \\\n",
       "League         Country                                       \n",
       "Bundesliga     Germany               27               3025   \n",
       "La Liga        Spain                 28               3753   \n",
       "Ligue 1        France                28               3620   \n",
       "Premier League England               28               3706   \n",
       "Serie A        Italy                 28               4049   \n",
       "\n",
       "                        Average Goals per Match  \n",
       "League         Country                           \n",
       "Bundesliga     Germany                     1.53  \n",
       "La Liga        Spain                       1.28  \n",
       "Ligue 1        France                      1.36  \n",
       "Premier League England                     1.37  \n",
       "Serie A        Italy                       1.44  "
      ]
     },
     "execution_count": 4,
     "metadata": {},
     "output_type": "execute_result"
    }
   ],
   "source": [
    "#| label: data_summary\n",
    "\n",
    "match_summary = match_results.groupby(['League', 'Country']).agg(\n",
    "    {\n",
    "        'Team' : 'nunique',\n",
    "        'Date' : 'size',\n",
    "        'Goals' : 'mean'\n",
    "    }\n",
    ")\n",
    "\n",
    "match_summary['Goals'] = match_summary['Goals'].round(2)\n",
    "match_summary.columns = ['Number of Teams', 'Number of Matches', 'Average Goals per Match']\n",
    "match_summary"
   ]
  },
  {
   "cell_type": "code",
   "execution_count": 5,
   "metadata": {},
   "outputs": [
    {
     "data": {
      "image/png": "[encoded data removed]",
      "text/plain": [
       "<Figure size 640x480 with 1 Axes>"
      ]
     },
     "metadata": {},
     "output_type": "display_data"
    }
   ],
   "source": [
    "#| label: match_distribution\n",
    "\n",
    "# Plot distribution of match \n",
    "plt.figure()\n",
    "sns.histplot(match_results['Date'].dt.month, bins=12, stat='density', discrete = True)\n",
    "plt.title('Monthly Distribution of Matches')\n",
    "plt.xlabel('Month')\n",
    "plt.ylabel('Density')\n",
    "plt.gca().yaxis.set_major_formatter(mticker.PercentFormatter(xmax=1))\n",
    "months = pd.date_range('2022-01-01', '2022-12-31', freq='ME').strftime('%b').tolist()\n",
    "plt.xticks(range(1, 13), months);"
   ]
  },
  {
   "cell_type": "code",
   "execution_count": 6,
   "metadata": {},
   "outputs": [],
   "source": [
    "home_goal = match_results[match_results['isHome']]['Goals'].mean()\n",
    "away_goal = match_results[~match_results['isHome']]['Goals'].mean()\n",
    "diff_goal_perc = ((away_goal - home_goal) / home_goal) * 100\n",
    "\n",
    "home_win = match_results[match_results['isHome']]['Result'].value_counts(normalize=True)['win']\n",
    "away_win = match_results[~match_results['isHome']]['Result'].value_counts(normalize=True)['win']\n",
    "diff_win_perc = ((away_win - home_win) / home_win) * 100\n",
    "home_draw = match_results[match_results['isHome']]['Result'].value_counts(normalize=True)['draw']"
   ]
  },
  {
   "cell_type": "markdown",
   "metadata": {
    "label": "home_advantage_text"
   },
   "source": [
    "In average, team playing at home scored {eval}`home_goals:.2f` goals while away team scored {away_goals:.2f} goals ({eval}`diff_goal_perc:.0f` % less goals).\n",
    "\n",
    "This resulted in {eval}`home_win*100:.0f` matches won by team playing at home vs {eval}`away_win*100:.0f` for the team playing away ({eval}`diff_win_perc:.0f` % less wins). Draw matches accounted for {eval}`home_draw:.0f` % of the matches. This effect is called home advantage."
   ]
  },
  {
   "cell_type": "code",
   "execution_count": 7,
   "metadata": {},
   "outputs": [
    {
     "data": {
      "image/png": "[encoded data removed]",
      "text/plain": [
       "<Figure size 640x480 with 1 Axes>"
      ]
     },
     "metadata": {},
     "output_type": "display_data"
    }
   ],
   "source": [
    "#| label: venue_effect\n",
    "# Match outcome versus venue \n",
    "plt.figure()\n",
    "sns.countplot(data=match_results[match_results['isHome']], x='Result', hue = \"Result\",\n",
    "               order = ['win', 'draw', 'loss'], stat = 'proportion', palette = ['g', 'gray', 'r'])\n",
    "plt.title('Match Outcome for Team playing at Home')\n",
    "plt.xlabel('')\n",
    "plt.ylabel('Percentage of Matches')\n",
    "plt.gca().yaxis.set_major_formatter(mticker.PercentFormatter(xmax=1))"
   ]
  },
  {
   "cell_type": "code",
   "execution_count": null,
   "metadata": {},
   "outputs": [],
   "source": []
  }
 ],
 "metadata": {
  "kernelspec": {
   "display_name": "TER",
   "language": "python",
   "name": "python3"
  },
  "language_info": {
   "codemirror_mode": {
    "name": "ipython",
    "version": 3
   },
   "file_extension": ".py",
   "mimetype": "text/x-python",
   "name": "python",
   "nbconvert_exporter": "python",
   "pygments_lexer": "ipython3",
   "version": "3.11.8"
  }
 },
 "nbformat": 4,
 "nbformat_minor": 2
}
