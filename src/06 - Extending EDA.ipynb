{
 "cells": [
  {
   "cell_type": "markdown",
   "metadata": {},
   "source": [
    "---\n",
    "title: EDA of both datasets\n",
    "description: dzadza\n",
    "---"
   ]
  },
  {
   "cell_type": "markdown",
   "metadata": {},
   "source": [
    "### Imports"
   ]
  },
  {
   "cell_type": "code",
   "execution_count": null,
   "metadata": {},
   "outputs": [],
   "source": [
    "import pandas as pd\n",
    "from matplotlib import pyplot as plt\n",
    "import matplotlib.dates as mdates\n",
    "import matplotlib.ticker as ticker\n",
    "import matplotlib.colors as mcolors\n",
    "import matplotlib.cm as cm\n",
    "import seaborn as sns\n",
    "\n",
    "sns.set_theme(style = 'ticks', palette = 'pastel')\n",
    "plt.rcParams['figure.autolayout'] = True\n",
    "plt.rcParams['savefig.bbox'] = 'tight'\n",
    "# Remove comment for saving figures\n",
    "sns.set_context(\"paper\")\n",
    "# Define fig saving context\n",
    "plt.rcParams['savefig.dpi'] = 300\n",
    "plt.rcParams['savefig.bbox'] = 'tight'\n",
    "plt.rcParams['savefig.directory'] = 'figures'\n",
    "\n",
    "import numpy as np\n",
    "from IPython.display import display, Markdown, HTML\n",
    "\n",
    "from datetime import datetime\n",
    "\n",
    "from utils.utils import filter_team, league_team, team_league, unique_teams, unique_teams_coach_change\n",
    "# league_team : league -> [team]\n",
    "# team_league : team -> league\n",
    "# unique_teams : [all teams]\n",
    "# unique_teams_coach_change : [all teams that have had a coach change]\n",
    "\n",
    "import warnings\n",
    "warnings.filterwarnings('ignore', category=FutureWarning)"
   ]
  },
  {
   "cell_type": "markdown",
   "metadata": {},
   "source": [
    "### Loading data"
   ]
  },
  {
   "cell_type": "code",
   "execution_count": null,
   "metadata": {},
   "outputs": [],
   "source": [
    "match_results = pd.read_csv('data/match_results.csv', parse_dates=['date'])\n",
    "head_coach = pd.read_csv('data/head_coach.csv', parse_dates=['appointed', 'end_date'])\n",
    "\n",
    "match_results.head()"
   ]
  },
  {
   "cell_type": "code",
   "execution_count": null,
   "metadata": {},
   "outputs": [],
   "source": [
    "for team in unique_teams:\n",
    "    if filter_team(team).shape[0] != filter_team(team).drop_duplicates().shape[0]:\n",
    "        print(f\"Team {team} has more than one match in the same day\")\n",
    "# No team played more than one match in the same day (ie. (date, team) can be index of match_result)"
   ]
  },
  {
   "cell_type": "markdown",
   "metadata": {},
   "source": [
    "### Basic plots"
   ]
  },
  {
   "cell_type": "code",
   "execution_count": null,
   "metadata": {},
   "outputs": [],
   "source": [
    "# Useful to add xtick months to dayofyear plot\n",
    "months = pd.date_range('2022-01-01', '2022-12-31', freq='M').strftime('%b').tolist()\n",
    "days = np.linspace(1, 365, num=12, dtype=int)"
   ]
  },
  {
   "cell_type": "markdown",
   "metadata": {},
   "source": [
    "### Match related plots"
   ]
  },
  {
   "cell_type": "code",
   "execution_count": null,
   "metadata": {},
   "outputs": [],
   "source": [
    "def plot_team_result_ratio(league, team):\n",
    "    \"\"\" Plot team's win ratio, draw ratio, lose ratio over time\n",
    "    (win : pale green, draw : light grey, lose : pale red)\"\"\"\n",
    "    \n",
    "    team_result = filter_team(team)\n",
    "    # Cumulative sum of each kind of result\n",
    "    team_result['win'] = team_result['result'].apply(lambda x: 1 if x == 'win' else 0)\n",
    "    team_result['draw'] = team_result['result'].apply(lambda x: 1 if x == 'draw' else 0)\n",
    "    team_result['lose'] = team_result['result'].apply(lambda x: 1 if x == 'lose' else 0)\n",
    "    team_result['total'] = team_result['win'] + team_result['draw'] + team_result['lose']\n",
    "\n",
    "    # Ratio sum of wins, draws and loses\n",
    "    team_result['win_ratio'] = team_result['win'].cumsum() / team_result['total'].cumsum()\n",
    "    team_result['draw_ratio'] = team_result['draw'].cumsum() / team_result['total'].cumsum()\n",
    "    team_result['lose_ratio'] = team_result['lose'].cumsum() / team_result['total'].cumsum()\n",
    "    \n",
    "    fig, ax = plt.subplots(figsize=(10, 6))\n",
    "\n",
    "    ax.plot(team_result.index, team_result['win_ratio'], color='yellowgreen', linewidth=2)\n",
    "    ax.plot(team_result.index, team_result['draw_ratio'], color='lightgrey', linewidth=2)\n",
    "    ax.plot(team_result.index, team_result['lose_ratio'], color='orangered', linewidth=2)\n",
    "\n",
    "    # Add discrete vertical line for mean of values\n",
    "    ax.axhline(y=team_result['win_ratio'].mean(), color='yellowgreen', linestyle='--', linewidth=1)\n",
    "    ax.axhline(y=team_result['draw_ratio'].mean(), color='lightgrey', linestyle='--', linewidth=1)\n",
    "    ax.axhline(y=team_result['lose_ratio'].mean(), color='orangered', linestyle='--', linewidth=1)\n",
    "\n",
    "    # Head Coach change\n",
    "    head_coach_team = head_coach[head_coach['team'] == team].copy()\n",
    "    \n",
    "    # Earliest Head Coach (some coach were stretching the plot a lot)\n",
    "    min_label = team_result.index.min() - pd.Timedelta(days=150)\n",
    "    min_head_coach = head_coach_team.appointed.min()\n",
    "    if min_head_coach < min_label:\n",
    "        earliest_head_coach_name = head_coach_team[head_coach_team['appointed'] == min_head_coach]['coach_name'].values[0]\n",
    "        \n",
    "        ax.axvline(x = min_label, color='black', linestyle='--', linewidth=1)\n",
    "        ax.text(min_label + pd.Timedelta('10 days'), 0.5, f'{earliest_head_coach_name} since {datetime.strftime(min_head_coach, \"%d/%m/%Y\")}', rotation=90, verticalalignment='center')\n",
    "\n",
    "        head_coach_team = head_coach_team[head_coach_team['appointed'] > min_head_coach]\n",
    "\n",
    "    for index, row in head_coach_team.iterrows():\n",
    "        ax.axvline(x=row['appointed'], color='black', linestyle='--', linewidth=1)\n",
    "        ax.text(row['appointed'] + pd.Timedelta('10 days'), 0.5, row['coach_name'], rotation=90, verticalalignment='center')\n",
    "\n",
    "    ax.set_title(f\"Ratios de résultats de {team} en {league} au fil du temps\")\n",
    "    ax.set_xlabel(\"Date\")\n",
    "    ax.set_ylabel(\"Ratio\")\n",
    "    ax.legend(['Victoires', 'Matchs nuls', 'Défaites'], loc='best')\n",
    "    plt.show()\n",
    "\n",
    "# plot_team_result_ratio('Ligue 1', 'Marseille');"
   ]
  },
  {
   "cell_type": "code",
   "execution_count": null,
   "metadata": {},
   "outputs": [],
   "source": [
    "import ipywidgets as widgets\n",
    "\n",
    "league_widget = widgets.Dropdown(\n",
    "    options = sorted(match_results['league'].unique().tolist()),\n",
    "    description='Ligue:',\n",
    ")\n",
    "\n",
    "team_widget = widgets.Dropdown(\n",
    "    options = sorted([team for team in unique_teams if team in league_team[league_widget.value]]),\n",
    "    description='Équipe:',\n",
    ")\n",
    "\n",
    "head_coach_change_widget = widgets.Checkbox(\n",
    "    value=False,\n",
    "    description=\"Changement d'entraîneur\"\n",
    ")\n",
    "\n",
    "def update_team_options(*args):\n",
    "    team_widget.options = league_team[league_widget.value]\n",
    "    if head_coach_change_widget.value:\n",
    "        team_widget.options = [team for team in team_widget.options if team in unique_teams_coach_change]\n",
    "\n",
    "league_widget.observe(update_team_options, 'value')\n",
    "head_coach_change_widget.observe(update_team_options, 'value')\n",
    "\n",
    "def plot_team(league, team, head_coach_change = None):\n",
    "    plot_team_result_ratio(league, team)\n",
    "\n",
    "widgets.interact(plot_team, league = league_widget, team = team_widget, head_coach_change = head_coach_change_widget);"
   ]
  }
 ],
 "metadata": {
  "kernelspec": {
   "display_name": "Python 3 (ipykernel)",
   "language": "python",
   "name": "python3"
  },
  "language_info": {
   "codemirror_mode": {
    "name": "ipython",
    "version": 3
   },
   "file_extension": ".py",
   "mimetype": "text/x-python",
   "name": "python",
   "nbconvert_exporter": "python",
   "pygments_lexer": "ipython3",
   "version": "3.11.8"
  }
 },
 "nbformat": 4,
 "nbformat_minor": 4
}
