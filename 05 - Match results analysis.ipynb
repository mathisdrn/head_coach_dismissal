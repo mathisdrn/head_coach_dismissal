{
 "cells": [
  {
   "cell_type": "markdown",
   "metadata": {},
   "source": [
    "---\n",
    "title: Match results exploratory data analysis\n",
    "description: ...\n",
    "---"
   ]
  },
  {
   "cell_type": "markdown",
   "metadata": {},
   "source": [
    "### Imports"
   ]
  },
  {
   "cell_type": "code",
   "execution_count": 17,
   "metadata": {},
   "outputs": [],
   "source": [
    "import pandas as pd\n",
    "from matplotlib import pyplot as plt\n",
    "import matplotlib.dates as mdates\n",
    "import matplotlib.ticker as ticker\n",
    "import matplotlib.colors as mcolors\n",
    "import matplotlib.cm as cm\n",
    "import seaborn as sns\n",
    "\n",
    "sns.set_theme(style = 'ticks', palette = 'pastel')\n",
    "plt.rcParams['figure.autolayout'] = True\n",
    "plt.rcParams['savefig.bbox'] = 'tight'\n",
    "# Remove comment for saving figures\n",
    "sns.set_context(\"paper\")\n",
    "# Define fig saving context\n",
    "plt.rcParams['savefig.dpi'] = 300\n",
    "plt.rcParams['savefig.bbox'] = 'tight'\n",
    "plt.rcParams['savefig.directory'] = 'figures'\n",
    "\n",
    "import numpy as np\n",
    "from IPython.display import display, Markdown, HTML\n",
    "\n",
    "from datetime import datetime\n",
    "\n",
    "from utils.utils import filter_team, league_team, team_league, unique_teams, unique_teams_coach_change\n",
    "# league_team : league -> [team]\n",
    "# team_league : team -> league\n",
    "# unique_teams : [all teams]\n",
    "# unique_teams_coach_change : [all teams that have had a coach change]\n",
    "\n",
    "import warnings\n",
    "warnings.filterwarnings('ignore', category=FutureWarning)"
   ]
  },
  {
   "cell_type": "markdown",
   "metadata": {},
   "source": [
    "### Loading data"
   ]
  },
  {
   "cell_type": "code",
   "execution_count": 18,
   "metadata": {},
   "outputs": [
    {
     "data": {
      "text/html": [
       "<div>\n",
       "<style scoped>\n",
       "    .dataframe tbody tr th:only-of-type {\n",
       "        vertical-align: middle;\n",
       "    }\n",
       "\n",
       "    .dataframe tbody tr th {\n",
       "        vertical-align: top;\n",
       "    }\n",
       "\n",
       "    .dataframe thead th {\n",
       "        text-align: right;\n",
       "    }\n",
       "</style>\n",
       "<table border=\"1\" class=\"dataframe\">\n",
       "  <thead>\n",
       "    <tr style=\"text-align: right;\">\n",
       "      <th></th>\n",
       "      <th>league</th>\n",
       "      <th>country</th>\n",
       "      <th>season_year</th>\n",
       "      <th>date</th>\n",
       "      <th>home_team</th>\n",
       "      <th>home_goals</th>\n",
       "      <th>away_team</th>\n",
       "      <th>away_goals</th>\n",
       "    </tr>\n",
       "  </thead>\n",
       "  <tbody>\n",
       "    <tr>\n",
       "      <th>0</th>\n",
       "      <td>Premier League</td>\n",
       "      <td>England</td>\n",
       "      <td>2018</td>\n",
       "      <td>2017-08-11</td>\n",
       "      <td>Arsenal</td>\n",
       "      <td>4.0</td>\n",
       "      <td>Leicester City</td>\n",
       "      <td>3.0</td>\n",
       "    </tr>\n",
       "    <tr>\n",
       "      <th>1</th>\n",
       "      <td>Premier League</td>\n",
       "      <td>England</td>\n",
       "      <td>2018</td>\n",
       "      <td>2017-08-12</td>\n",
       "      <td>Watford</td>\n",
       "      <td>3.0</td>\n",
       "      <td>Liverpool</td>\n",
       "      <td>3.0</td>\n",
       "    </tr>\n",
       "    <tr>\n",
       "      <th>2</th>\n",
       "      <td>Premier League</td>\n",
       "      <td>England</td>\n",
       "      <td>2018</td>\n",
       "      <td>2017-08-12</td>\n",
       "      <td>Crystal Palace</td>\n",
       "      <td>0.0</td>\n",
       "      <td>Huddersfield</td>\n",
       "      <td>3.0</td>\n",
       "    </tr>\n",
       "    <tr>\n",
       "      <th>3</th>\n",
       "      <td>Premier League</td>\n",
       "      <td>England</td>\n",
       "      <td>2018</td>\n",
       "      <td>2017-08-12</td>\n",
       "      <td>West Brom</td>\n",
       "      <td>1.0</td>\n",
       "      <td>Bournemouth</td>\n",
       "      <td>0.0</td>\n",
       "    </tr>\n",
       "    <tr>\n",
       "      <th>4</th>\n",
       "      <td>Premier League</td>\n",
       "      <td>England</td>\n",
       "      <td>2018</td>\n",
       "      <td>2017-08-12</td>\n",
       "      <td>Chelsea</td>\n",
       "      <td>2.0</td>\n",
       "      <td>Burnley</td>\n",
       "      <td>3.0</td>\n",
       "    </tr>\n",
       "  </tbody>\n",
       "</table>\n",
       "</div>"
      ],
      "text/plain": [
       "           league  country  season_year       date       home_team  \\\n",
       "0  Premier League  England         2018 2017-08-11         Arsenal   \n",
       "1  Premier League  England         2018 2017-08-12         Watford   \n",
       "2  Premier League  England         2018 2017-08-12  Crystal Palace   \n",
       "3  Premier League  England         2018 2017-08-12       West Brom   \n",
       "4  Premier League  England         2018 2017-08-12         Chelsea   \n",
       "\n",
       "   home_goals       away_team  away_goals  \n",
       "0         4.0  Leicester City         3.0  \n",
       "1         3.0       Liverpool         3.0  \n",
       "2         0.0    Huddersfield         3.0  \n",
       "3         1.0     Bournemouth         0.0  \n",
       "4         2.0         Burnley         3.0  "
      ]
     },
     "execution_count": 18,
     "metadata": {},
     "output_type": "execute_result"
    }
   ],
   "source": [
    "match_results = pd.read_csv('data/match_results.csv', parse_dates=['date'])\n",
    "# head_coach = pd.read_csv('data/head_coach.csv', parse_dates=['appointed', 'end_date'])\n",
    "\n",
    "match_results.head()"
   ]
  },
  {
   "cell_type": "code",
   "execution_count": 19,
   "metadata": {},
   "outputs": [],
   "source": [
    "# General information\n",
    "min_year = match_results['date'].min()\n",
    "max_year = match_results['date'].max()"
   ]
  },
  {
   "cell_type": "markdown",
   "metadata": {
    "user_expressions": [
     {
      "expression": "min_year.strftime(\"%m/%d/%Y\")",
      "result": {
       "data": {
        "text/plain": "'08/04/2017'"
       },
       "metadata": {},
       "status": "ok"
      }
     },
     {
      "expression": "max_year.strftime(\"%m/%d/%Y\")",
      "result": {
       "data": {
        "text/plain": "'05/29/2022'"
       },
       "metadata": {},
       "status": "ok"
      }
     },
     {
      "expression": "len(match_results)",
      "result": {
       "data": {
        "text/plain": "9148"
       },
       "metadata": {},
       "status": "ok"
      }
     },
     {
      "expression": "\", \".join(match_results['league'].unique().tolist())",
      "result": {
       "data": {
        "text/plain": "'Premier League, La Liga, Ligue 1, Bundesliga, Serie A'"
       },
       "metadata": {},
       "status": "ok"
      }
     }
    ]
   },
   "source": [
    "### General information about data\n",
    "\n",
    "Data collected from match results ranges from {eval}`min_year.strftime(\"%m/%d/%Y\")` to {eval}`max_year.strftime(\"%m/%d/%Y\")` and contains the results of {eval}`len(match_results)` matches.\n",
    "\n",
    "Matches have been collected for the following leagues : **{eval}`\", \".join(match_results['league'].unique().tolist())`**"
   ]
  },
  {
   "cell_type": "code",
   "execution_count": 20,
   "metadata": {},
   "outputs": [
    {
     "data": {
      "text/html": [
       "<table border=\"1\" class=\"dataframe\">\n",
       "  <thead>\n",
       "    <tr style=\"text-align: right;\">\n",
       "      <th></th>\n",
       "      <th>Number of match played</th>\n",
       "      <th>Average goals</th>\n",
       "      <th>Number of teams</th>\n",
       "      <th>Number of teams with coach change</th>\n",
       "    </tr>\n",
       "    <tr>\n",
       "      <th>Leagues</th>\n",
       "      <th></th>\n",
       "      <th></th>\n",
       "      <th></th>\n",
       "      <th></th>\n",
       "    </tr>\n",
       "  </thead>\n",
       "  <tbody>\n",
       "    <tr>\n",
       "      <th>Ligue 1 (France)</th>\n",
       "      <td>1908</td>\n",
       "      <td>2.68</td>\n",
       "      <td>28</td>\n",
       "      <td>12</td>\n",
       "    </tr>\n",
       "    <tr>\n",
       "      <th>La Liga (Spain)</th>\n",
       "      <td>1900</td>\n",
       "      <td>2.55</td>\n",
       "      <td>28</td>\n",
       "      <td>14</td>\n",
       "    </tr>\n",
       "    <tr>\n",
       "      <th>Premier League (England)</th>\n",
       "      <td>1900</td>\n",
       "      <td>2.75</td>\n",
       "      <td>28</td>\n",
       "      <td>15</td>\n",
       "    </tr>\n",
       "    <tr>\n",
       "      <th>Serie A (Italy)</th>\n",
       "      <td>1900</td>\n",
       "      <td>2.86</td>\n",
       "      <td>28</td>\n",
       "      <td>16</td>\n",
       "    </tr>\n",
       "    <tr>\n",
       "      <th>Bundesliga (Germany)</th>\n",
       "      <td>1540</td>\n",
       "      <td>3.06</td>\n",
       "      <td>27</td>\n",
       "      <td>13</td>\n",
       "    </tr>\n",
       "  </tbody>\n",
       "</table>"
      ],
      "text/plain": [
       "<IPython.core.display.HTML object>"
      ]
     },
     "metadata": {},
     "output_type": "display_data"
    }
   ],
   "source": [
    "# Leagues informations\n",
    "match_results['total_goals'] = match_results['home_goals'] + match_results['away_goals']\n",
    "leagues = (match_results.groupby(['league', 'country'])\n",
    "            .agg(matches_played=('home_team', 'count'), avg_goals=('total_goals', 'mean'))\n",
    "            .reset_index()\n",
    "            .assign(league_country=lambda df: df['league'] + ' (' + df['country'] + ')')\n",
    "            .sort_values(by='matches_played', ascending=False))\n",
    "# Number of teams : use league_team = {league: [team]} to get the number of teams in each league and add it to league dataframe\n",
    "leagues['number_of_teams'] = leagues['league'].apply(lambda x: len(league_team[x]))\n",
    "\n",
    "league_team_coach_change = {league: [team for team in league_team[league] if team in unique_teams_coach_change] for league in league_team}\n",
    "leagues['number_of_teams_with_coach_change'] = leagues['league'].apply(lambda x: len(league_team_coach_change[x]))\n",
    "# Round avg goals\n",
    "leagues['avg_goals'] = leagues['avg_goals'].round(2)\n",
    "# Drop league and country columns\n",
    "leagues = leagues.drop(columns=['league', 'country'])\n",
    "leagues = leagues.set_index('league_country')\n",
    "# Rename columns with proper formatting\n",
    "leagues = leagues.rename(columns={'matches_played': 'Number of match played', 'avg_goals': 'Average goals', 'number_of_teams': 'Number of teams', 'number_of_teams_with_coach_change': 'Number of teams with coach change'})\n",
    "# Reorder columns\n",
    "leagues = leagues[['Number of match played', 'Average goals', 'Number of teams', 'Number of teams with coach change']]\n",
    "# Rename index\n",
    "leagues.index.name = 'Leagues'\n",
    "display(HTML(leagues.to_html()))"
   ]
  },
  {
   "cell_type": "code",
   "execution_count": 21,
   "metadata": {},
   "outputs": [],
   "source": [
    "for team in unique_teams:\n",
    "    if filter_team(team).shape[0] != filter_team(team).drop_duplicates().shape[0]:\n",
    "        print(f\"Team {team} has more than one match in the same day\")\n",
    "# No team played more than one match in the same day (ie. (date, team) can be index of match_result)"
   ]
  },
  {
   "cell_type": "markdown",
   "metadata": {},
   "source": [
    "### Basic plots"
   ]
  },
  {
   "cell_type": "code",
   "execution_count": 22,
   "metadata": {},
   "outputs": [],
   "source": [
    "# Useful to add xtick months to dayofyear plot\n",
    "months = pd.date_range('2022-01-01', '2022-12-31', freq='M').strftime('%b').tolist()\n",
    "days = np.linspace(1, 365, num=12, dtype=int)"
   ]
  },
  {
   "cell_type": "markdown",
   "metadata": {},
   "source": [
    "Question intéressante : le fait que le coach soit changé en dehors des dates conventionnelle (juillet) est il une information significative quand à la performance de l'équipe"
   ]
  },
  {
   "cell_type": "code",
   "execution_count": 23,
   "metadata": {},
   "outputs": [
    {
     "data": {
      "image/png": "[encoded data removed]",
      "text/plain": [
       "<Figure size 640x480 with 1 Axes>"
      ]
     },
     "metadata": {},
     "output_type": "display_data"
    }
   ],
   "source": [
    "# Plot distribution of match \n",
    "plt.figure()\n",
    "plt.hist(match_results['date'].dt.month, bins=11, color = 'b', density=True)\n",
    "plt.title('Monthly Distribution of Matches')\n",
    "plt.xlabel('Month')\n",
    "plt.ylabel('Density')\n",
    "plt.xticks(range(1, 13), months, rotation=45)\n",
    "plt.grid(axis='y', linestyle='--', alpha=0.8)\n",
    "plt.savefig('figures/match_distribution.png')"
   ]
  },
  {
   "cell_type": "code",
   "execution_count": 24,
   "metadata": {},
   "outputs": [
    {
     "data": {
      "text/html": [
       "<div>\n",
       "<style scoped>\n",
       "    .dataframe tbody tr th:only-of-type {\n",
       "        vertical-align: middle;\n",
       "    }\n",
       "\n",
       "    .dataframe tbody tr th {\n",
       "        vertical-align: top;\n",
       "    }\n",
       "\n",
       "    .dataframe thead th {\n",
       "        text-align: right;\n",
       "    }\n",
       "</style>\n",
       "<table border=\"1\" class=\"dataframe\">\n",
       "  <thead>\n",
       "    <tr style=\"text-align: right;\">\n",
       "      <th></th>\n",
       "      <th>league</th>\n",
       "      <th>country</th>\n",
       "      <th>season_year</th>\n",
       "      <th>date</th>\n",
       "      <th>home_team</th>\n",
       "      <th>home_goals</th>\n",
       "      <th>away_team</th>\n",
       "      <th>away_goals</th>\n",
       "      <th>total_goals</th>\n",
       "    </tr>\n",
       "  </thead>\n",
       "  <tbody>\n",
       "    <tr>\n",
       "      <th>0</th>\n",
       "      <td>Premier League</td>\n",
       "      <td>England</td>\n",
       "      <td>2018</td>\n",
       "      <td>2017-08-11</td>\n",
       "      <td>Arsenal</td>\n",
       "      <td>4.0</td>\n",
       "      <td>Leicester City</td>\n",
       "      <td>3.0</td>\n",
       "      <td>7.0</td>\n",
       "    </tr>\n",
       "    <tr>\n",
       "      <th>1</th>\n",
       "      <td>Premier League</td>\n",
       "      <td>England</td>\n",
       "      <td>2018</td>\n",
       "      <td>2017-08-12</td>\n",
       "      <td>Watford</td>\n",
       "      <td>3.0</td>\n",
       "      <td>Liverpool</td>\n",
       "      <td>3.0</td>\n",
       "      <td>6.0</td>\n",
       "    </tr>\n",
       "    <tr>\n",
       "      <th>2</th>\n",
       "      <td>Premier League</td>\n",
       "      <td>England</td>\n",
       "      <td>2018</td>\n",
       "      <td>2017-08-12</td>\n",
       "      <td>Crystal Palace</td>\n",
       "      <td>0.0</td>\n",
       "      <td>Huddersfield</td>\n",
       "      <td>3.0</td>\n",
       "      <td>3.0</td>\n",
       "    </tr>\n",
       "    <tr>\n",
       "      <th>3</th>\n",
       "      <td>Premier League</td>\n",
       "      <td>England</td>\n",
       "      <td>2018</td>\n",
       "      <td>2017-08-12</td>\n",
       "      <td>West Brom</td>\n",
       "      <td>1.0</td>\n",
       "      <td>Bournemouth</td>\n",
       "      <td>0.0</td>\n",
       "      <td>1.0</td>\n",
       "    </tr>\n",
       "    <tr>\n",
       "      <th>4</th>\n",
       "      <td>Premier League</td>\n",
       "      <td>England</td>\n",
       "      <td>2018</td>\n",
       "      <td>2017-08-12</td>\n",
       "      <td>Chelsea</td>\n",
       "      <td>2.0</td>\n",
       "      <td>Burnley</td>\n",
       "      <td>3.0</td>\n",
       "      <td>5.0</td>\n",
       "    </tr>\n",
       "  </tbody>\n",
       "</table>\n",
       "</div>"
      ],
      "text/plain": [
       "           league  country  season_year       date       home_team  \\\n",
       "0  Premier League  England         2018 2017-08-11         Arsenal   \n",
       "1  Premier League  England         2018 2017-08-12         Watford   \n",
       "2  Premier League  England         2018 2017-08-12  Crystal Palace   \n",
       "3  Premier League  England         2018 2017-08-12       West Brom   \n",
       "4  Premier League  England         2018 2017-08-12         Chelsea   \n",
       "\n",
       "   home_goals       away_team  away_goals  total_goals  \n",
       "0         4.0  Leicester City         3.0          7.0  \n",
       "1         3.0       Liverpool         3.0          6.0  \n",
       "2         0.0    Huddersfield         3.0          3.0  \n",
       "3         1.0     Bournemouth         0.0          1.0  \n",
       "4         2.0         Burnley         3.0          5.0  "
      ]
     },
     "execution_count": 24,
     "metadata": {},
     "output_type": "execute_result"
    }
   ],
   "source": [
    "match_results.head()"
   ]
  },
  {
   "cell_type": "code",
   "execution_count": 25,
   "metadata": {},
   "outputs": [],
   "source": [
    "total_matches = match_results.shape[0]\n",
    "home_goals = match_results['home_goals'].mean()\n",
    "away_goals = match_results['away_goals'].mean()\n",
    "diff_goal_perc = ((home_goals - away_goals) / away_goals) * 100\n",
    "\n",
    "home_win = (match_results['home_goals'] > match_results['away_goals']).sum()\n",
    "away_win = (match_results['home_goals'] < match_results['away_goals']).sum()\n",
    "diff_win_perc = ((home_win - away_win) / away_win) * 100\n",
    "\n",
    "draw_count = (match_results['home_goals'] == match_results['away_goals']).sum()\n",
    "draw_perc = (draw_count / (home_win + away_win)) * 100"
   ]
  },
  {
   "cell_type": "markdown",
   "metadata": {
    "user_expressions": [
     {
      "expression": "f\"In average, team playing at home scored {home_goals:.2f} goals while away team scored {away_goals:.2f} goals ({+ diff_goal_perc:.0f} % % more goals).\"",
      "result": {
       "data": {
        "text/plain": "'In average, team playing at home scored 1.53 goals while away team scored 1.24 goals (23 % % more goals).'"
       },
       "metadata": {},
       "status": "ok"
      }
     },
     {
      "expression": "f\"This resulted in {home_win} matches won by team playing at home vs {away_win} for the team playing away ({diff_win_perc:.0f} % more wins)\"",
      "result": {
       "data": {
        "text/plain": "'This resulted in 3919 matches won by team playing at home vs 2846 for the team playing away (38 % more wins)'"
       },
       "metadata": {},
       "status": "ok"
      }
     },
     {
      "expression": "f\"{draw_count} matches resulted in a draw ({draw_perc:.0f} %)\"",
      "result": {
       "data": {
        "text/plain": "'2282 matches resulted in a draw (34 %)'"
       },
       "metadata": {},
       "status": "ok"
      }
     }
    ]
   },
   "source": [
    "{eval}`f\"In average, team playing at home scored {home_goals:.2f} goals while away team scored {away_goals:.2f} goals ({+ diff_goal_perc:.0f} % more goals).\"`\n",
    "\n",
    "{eval}`f\"This resulted in {home_win} matches won by team playing at home vs {away_win} for the team playing away ({diff_win_perc:.0f} % more wins)\"`\n",
    "\n",
    "{eval}`f\"{draw_count} matches resulted in a draw ({draw_perc:.0f} %)\"`"
   ]
  },
  {
   "cell_type": "code",
   "execution_count": 26,
   "metadata": {},
   "outputs": [
    {
     "data": {
      "image/png": "[encoded data removed]",
      "text/plain": [
       "<Figure size 1100x300 with 2 Axes>"
      ]
     },
     "metadata": {},
     "output_type": "display_data"
    }
   ],
   "source": [
    "fig, ax = plt.subplots(1, 2, figsize=(11, 3))\n",
    "\n",
    "sns.barplot(x=['Home', 'Away'], y=[home_goals, away_goals], ax=ax[0], palette=['blue', 'red'])\n",
    "ax[0].set_title('Average goals')\n",
    "ax[0].set_ylabel('Average goals')\n",
    "\n",
    "sns.barplot(x=['Home', 'Away', 'Draw'], y=[home_win, away_win, draw_count], ax=ax[1], palette=['blue', 'red', 'grey'])\n",
    "ax[1].set_title('Number of win')\n",
    "ax[1].set_ylabel('Number of win')\n",
    "# Set y limit a bit higher\n",
    "ax[1].set_ylim(0, home_win * 1.1)\n",
    "\n",
    "# Add percentage of total match\n",
    "for p in ax[1].patches:\n",
    "    percentage = f'{100 * p.get_height() / total_matches:.1f}%'\n",
    "    x = p.get_x() + p.get_width() / 2\n",
    "    y = p.get_height()\n",
    "    ax[1].text(x, y, percentage, ha='center', va='bottom')\n",
    "\n",
    "plt.savefig('figures/home_away_effect.png')"
   ]
  }
 ],
 "metadata": {
  "kernelspec": {
   "display_name": "Python 3 (ipykernel)",
   "language": "python",
   "name": "python3"
  },
  "language_info": {
   "codemirror_mode": {
    "name": "ipython",
    "version": 3
   },
   "file_extension": ".py",
   "mimetype": "text/x-python",
   "name": "python",
   "nbconvert_exporter": "python",
   "pygments_lexer": "ipython3",
   "version": "3.11.7"
  }
 },
 "nbformat": 4,
 "nbformat_minor": 4
}
