{
 "cells": [
  {
   "cell_type": "markdown",
   "id": "7a2d36dd",
   "metadata": {},
   "source": [
    "---\n",
    "title: Data extraction\n",
    "description: We proceed to extract dataset using WorldFootballR library from Fbref and ...\n",
    "---"
   ]
  },
  {
   "cell_type": "code",
   "execution_count": 51,
   "id": "b07eaee9",
   "metadata": {},
   "outputs": [],
   "source": [
    "if (!require(worldfootballR)) {\n",
    "  install.packages(\"worldfootballR\")\n",
    "}\n",
    "\n",
    "if (!require(data.table)) {\n",
    "  install.packages(\"data.table\")\n",
    "}\n",
    "\n",
    "library(worldfootballR)\n",
    "library(data.table)"
   ]
  },
  {
   "cell_type": "markdown",
   "id": "e63046f4",
   "metadata": {},
   "source": [
    "## Get match results"
   ]
  },
  {
   "cell_type": "code",
   "execution_count": 52,
   "id": "db3124e1",
   "metadata": {},
   "outputs": [],
   "source": [
    "country <- c(\"ENG\", \"ESP\", \"ITA\", \"GER\", \"FRA\")\n",
    "year <- c(2018, 2019, 2020, 2021, 2022)\n",
    "result <- fb_match_results(country = country, gender = \"M\", season_end_year = year, tier = \"1st\")"
   ]
  },
  {
   "cell_type": "code",
   "execution_count": 53,
   "id": "aded1103",
   "metadata": {},
   "outputs": [],
   "source": [
    "column_to_drop <- c('Gender', 'Day', 'Wk', 'Time', 'Venue', 'Referee', 'Attendance', 'Home_xG', 'Away_xG', 'Notes', 'Round')\n",
    "result <- result[, !(names(result) %in% column_to_drop)]\n",
    "# Rename result$Competition_Name of 'Fu\\303\\237ball-Bundesliga' to 'Bundesliga'\n",
    "result$Competition_Name[result$Competition_Name == 'Fu\\303\\237ball-Bundesliga'] <- 'Bundesliga'\n",
    "# Rename columns of result dataframe\n",
    "names(result) <- c('league', 'country', 'season_year', 'date', 'home', 'home_goals', 'away', 'away_goals', 'match_url')\n",
    "# Rename country code to country name\n",
    "match_country <- c('ENG' = 'England', 'ITA' = 'Italy', 'FRA' = 'France', 'GER' = 'Germany', 'ESP' = 'Spain')\n",
    "result$country <- match_country[result$country]\n"
   ]
  },
  {
   "cell_type": "code",
   "execution_count": 54,
   "id": "77b58ed4",
   "metadata": {},
   "outputs": [
    {
     "data": {
      "text/html": [
       "<table class=\"dataframe\">\n",
       "<caption>A data.frame: 6 x 9</caption>\n",
       "<thead>\n",
       "\t<tr><th></th><th scope=col>league</th><th scope=col>country</th><th scope=col>season_year</th><th scope=col>date</th><th scope=col>home</th><th scope=col>home_goals</th><th scope=col>away</th><th scope=col>away_goals</th><th scope=col>match_url</th></tr>\n",
       "\t<tr><th></th><th scope=col>&lt;chr&gt;</th><th scope=col>&lt;chr&gt;</th><th scope=col>&lt;int&gt;</th><th scope=col>&lt;date&gt;</th><th scope=col>&lt;chr&gt;</th><th scope=col>&lt;dbl&gt;</th><th scope=col>&lt;chr&gt;</th><th scope=col>&lt;dbl&gt;</th><th scope=col>&lt;chr&gt;</th></tr>\n",
       "</thead>\n",
       "<tbody>\n",
       "\t<tr><th scope=row>1</th><td>Premier League</td><td>England</td><td>2018</td><td>2017-08-11</td><td>Arsenal       </td><td>4</td><td>Leicester City</td><td>3</td><td>https://fbref.com/en/matches/e3c3ddf0/Arsenal-Leicester-City-August-11-2017-Premier-League          </td></tr>\n",
       "\t<tr><th scope=row>2</th><td>Premier League</td><td>England</td><td>2018</td><td>2017-08-12</td><td>Watford       </td><td>3</td><td>Liverpool     </td><td>3</td><td>https://fbref.com/en/matches/60f6cc1d/Watford-Liverpool-August-12-2017-Premier-League               </td></tr>\n",
       "\t<tr><th scope=row>3</th><td>Premier League</td><td>England</td><td>2018</td><td>2017-08-12</td><td>Crystal Palace</td><td>0</td><td>Huddersfield  </td><td>3</td><td>https://fbref.com/en/matches/2d369d17/Crystal-Palace-Huddersfield-Town-August-12-2017-Premier-League</td></tr>\n",
       "\t<tr><th scope=row>4</th><td>Premier League</td><td>England</td><td>2018</td><td>2017-08-12</td><td>West Brom     </td><td>1</td><td>Bournemouth   </td><td>0</td><td>https://fbref.com/en/matches/684f704a/West-Bromwich-Albion-Bournemouth-August-12-2017-Premier-League</td></tr>\n",
       "\t<tr><th scope=row>5</th><td>Premier League</td><td>England</td><td>2018</td><td>2017-08-12</td><td>Chelsea       </td><td>2</td><td>Burnley       </td><td>3</td><td>https://fbref.com/en/matches/71b00bca/Chelsea-Burnley-August-12-2017-Premier-League                 </td></tr>\n",
       "\t<tr><th scope=row>6</th><td>Premier League</td><td>England</td><td>2018</td><td>2017-08-12</td><td>Everton       </td><td>1</td><td>Stoke City    </td><td>0</td><td>https://fbref.com/en/matches/7c834541/Everton-Stoke-City-August-12-2017-Premier-League              </td></tr>\n",
       "</tbody>\n",
       "</table>\n"
      ],
      "text/latex": [
       "A data.frame: 6 x 9\n",
       "\\begin{tabular}{r|lllllllll}\n",
       "  & league & country & season\\_year & date & home & home\\_goals & away & away\\_goals & match\\_url\\\\\n",
       "  & <chr> & <chr> & <int> & <date> & <chr> & <dbl> & <chr> & <dbl> & <chr>\\\\\n",
       "\\hline\n",
       "\t1 & Premier League & England & 2018 & 2017-08-11 & Arsenal        & 4 & Leicester City & 3 & https://fbref.com/en/matches/e3c3ddf0/Arsenal-Leicester-City-August-11-2017-Premier-League          \\\\\n",
       "\t2 & Premier League & England & 2018 & 2017-08-12 & Watford        & 3 & Liverpool      & 3 & https://fbref.com/en/matches/60f6cc1d/Watford-Liverpool-August-12-2017-Premier-League               \\\\\n",
       "\t3 & Premier League & England & 2018 & 2017-08-12 & Crystal Palace & 0 & Huddersfield   & 3 & https://fbref.com/en/matches/2d369d17/Crystal-Palace-Huddersfield-Town-August-12-2017-Premier-League\\\\\n",
       "\t4 & Premier League & England & 2018 & 2017-08-12 & West Brom      & 1 & Bournemouth    & 0 & https://fbref.com/en/matches/684f704a/West-Bromwich-Albion-Bournemouth-August-12-2017-Premier-League\\\\\n",
       "\t5 & Premier League & England & 2018 & 2017-08-12 & Chelsea        & 2 & Burnley        & 3 & https://fbref.com/en/matches/71b00bca/Chelsea-Burnley-August-12-2017-Premier-League                 \\\\\n",
       "\t6 & Premier League & England & 2018 & 2017-08-12 & Everton        & 1 & Stoke City     & 0 & https://fbref.com/en/matches/7c834541/Everton-Stoke-City-August-12-2017-Premier-League              \\\\\n",
       "\\end{tabular}\n"
      ],
      "text/markdown": [
       "\n",
       "A data.frame: 6 x 9\n",
       "\n",
       "| <!--/--> | league &lt;chr&gt; | country &lt;chr&gt; | season_year &lt;int&gt; | date &lt;date&gt; | home &lt;chr&gt; | home_goals &lt;dbl&gt; | away &lt;chr&gt; | away_goals &lt;dbl&gt; | match_url &lt;chr&gt; |\n",
       "|---|---|---|---|---|---|---|---|---|---|\n",
       "| 1 | Premier League | England | 2018 | 2017-08-11 | Arsenal        | 4 | Leicester City | 3 | https://fbref.com/en/matches/e3c3ddf0/Arsenal-Leicester-City-August-11-2017-Premier-League           |\n",
       "| 2 | Premier League | England | 2018 | 2017-08-12 | Watford        | 3 | Liverpool      | 3 | https://fbref.com/en/matches/60f6cc1d/Watford-Liverpool-August-12-2017-Premier-League                |\n",
       "| 3 | Premier League | England | 2018 | 2017-08-12 | Crystal Palace | 0 | Huddersfield   | 3 | https://fbref.com/en/matches/2d369d17/Crystal-Palace-Huddersfield-Town-August-12-2017-Premier-League |\n",
       "| 4 | Premier League | England | 2018 | 2017-08-12 | West Brom      | 1 | Bournemouth    | 0 | https://fbref.com/en/matches/684f704a/West-Bromwich-Albion-Bournemouth-August-12-2017-Premier-League |\n",
       "| 5 | Premier League | England | 2018 | 2017-08-12 | Chelsea        | 2 | Burnley        | 3 | https://fbref.com/en/matches/71b00bca/Chelsea-Burnley-August-12-2017-Premier-League                  |\n",
       "| 6 | Premier League | England | 2018 | 2017-08-12 | Everton        | 1 | Stoke City     | 0 | https://fbref.com/en/matches/7c834541/Everton-Stoke-City-August-12-2017-Premier-League               |\n",
       "\n"
      ],
      "text/plain": [
       "  league         country season_year date       home           home_goals\n",
       "1 Premier League England 2018        2017-08-11 Arsenal        4         \n",
       "2 Premier League England 2018        2017-08-12 Watford        3         \n",
       "3 Premier League England 2018        2017-08-12 Crystal Palace 0         \n",
       "4 Premier League England 2018        2017-08-12 West Brom      1         \n",
       "5 Premier League England 2018        2017-08-12 Chelsea        2         \n",
       "6 Premier League England 2018        2017-08-12 Everton        1         \n",
       "  away           away_goals\n",
       "1 Leicester City 3         \n",
       "2 Liverpool      3         \n",
       "3 Huddersfield   3         \n",
       "4 Bournemouth    0         \n",
       "5 Burnley        3         \n",
       "6 Stoke City     0         \n",
       "  match_url                                                                                           \n",
       "1 https://fbref.com/en/matches/e3c3ddf0/Arsenal-Leicester-City-August-11-2017-Premier-League          \n",
       "2 https://fbref.com/en/matches/60f6cc1d/Watford-Liverpool-August-12-2017-Premier-League               \n",
       "3 https://fbref.com/en/matches/2d369d17/Crystal-Palace-Huddersfield-Town-August-12-2017-Premier-League\n",
       "4 https://fbref.com/en/matches/684f704a/West-Bromwich-Albion-Bournemouth-August-12-2017-Premier-League\n",
       "5 https://fbref.com/en/matches/71b00bca/Chelsea-Burnley-August-12-2017-Premier-League                 \n",
       "6 https://fbref.com/en/matches/7c834541/Everton-Stoke-City-August-12-2017-Premier-League              "
      ]
     },
     "metadata": {},
     "output_type": "display_data"
    },
    {
     "data": {
      "text/html": [
       "'9148 rows'"
      ],
      "text/latex": [
       "'9148 rows'"
      ],
      "text/markdown": [
       "'9148 rows'"
      ],
      "text/plain": [
       "[1] \"9148 rows\""
      ]
     },
     "metadata": {},
     "output_type": "display_data"
    },
    {
     "name": "stdout",
     "output_type": "stream",
     "text": [
      "[1] \"leagues of interests:\"\n"
     ]
    },
    {
     "data": {
      "text/html": [
       "<style>\n",
       ".list-inline {list-style: none; margin:0; padding: 0}\n",
       ".list-inline>li {display: inline-block}\n",
       ".list-inline>li:not(:last-child)::after {content: \"\\00b7\"; padding: 0 .5ex}\n",
       "</style>\n",
       "<ol class=list-inline><li>'Premier League'</li><li>'La Liga'</li><li>'Ligue 1'</li><li>'Bundesliga'</li><li>'Serie A'</li></ol>\n"
      ],
      "text/latex": [
       "\\begin{enumerate*}\n",
       "\\item 'Premier League'\n",
       "\\item 'La Liga'\n",
       "\\item 'Ligue 1'\n",
       "\\item 'Bundesliga'\n",
       "\\item 'Serie A'\n",
       "\\end{enumerate*}\n"
      ],
      "text/markdown": [
       "1. 'Premier League'\n",
       "2. 'La Liga'\n",
       "3. 'Ligue 1'\n",
       "4. 'Bundesliga'\n",
       "5. 'Serie A'\n",
       "\n",
       "\n"
      ],
      "text/plain": [
       "[1] \"Premier League\" \"La Liga\"        \"Ligue 1\"        \"Bundesliga\"    \n",
       "[5] \"Serie A\"       "
      ]
     },
     "metadata": {},
     "output_type": "display_data"
    }
   ],
   "source": [
    "head(result)\n",
    "paste(nrow(result), \"rows\")\n",
    "print(\"leagues of interests:\")\n",
    "unique(result$league)"
   ]
  },
  {
   "cell_type": "code",
   "execution_count": 55,
   "id": "1041eb59",
   "metadata": {},
   "outputs": [],
   "source": [
    "# Save result in 'data/match_results.csv'\n",
    "fwrite(result, file = \"data/match_results.csv\", quote = \"auto\")"
   ]
  },
  {
   "cell_type": "markdown",
   "id": "0dd1d968",
   "metadata": {},
   "source": [
    "## Get head Coach"
   ]
  },
  {
   "cell_type": "code",
   "execution_count": 56,
   "id": "28e076f6",
   "metadata": {},
   "outputs": [
    {
     "name": "stdout",
     "output_type": "stream",
     "text": [
      "[1] \"England : 20 teams\"\n",
      "[1] \"Spain : 20 teams\"\n",
      "[1] \"Italy : 20 teams\"\n",
      "[1] \"Germany : 18 teams\"\n",
      "[1] \"France : 20 teams\"\n"
     ]
    }
   ],
   "source": [
    "country <- c(\"England\", \"Spain\", \"Italy\", \"Germany\", \"France\")\n",
    "\n",
    "# Créer le vecteur teams_url\n",
    "teams_url <- c()\n",
    "for (i in seq_along(country)) {\n",
    "    team_url <- tm_league_team_urls(country_name = country[i], start_year = 2018)\n",
    "    print(paste(country[i], \":\", length(team_url), \"teams\"))\n",
    "    teams_url <- c(teams_url, team_url)\n",
    "}"
   ]
  },
  {
   "cell_type": "code",
   "execution_count": 57,
   "id": "d8ce18f9",
   "metadata": {},
   "outputs": [
    {
     "name": "stdout",
     "output_type": "stream",
     "text": [
      "[1] \"4852 head coaches records\"\n"
     ]
    }
   ],
   "source": [
    "head_coach <- tm_team_staff_history(team_urls = teams_url, staff_role = \"Manager\")\n",
    "print(paste(nrow(head_coach), \"head coaches records\"))"
   ]
  },
  {
   "cell_type": "code",
   "execution_count": 58,
   "id": "3bd70b01",
   "metadata": {},
   "outputs": [
    {
     "data": {
      "text/html": [
       "<style>\n",
       ".list-inline {list-style: none; margin:0; padding: 0}\n",
       ".list-inline>li {display: inline-block}\n",
       ".list-inline>li:not(:last-child)::after {content: \"\\00b7\"; padding: 0 .5ex}\n",
       "</style>\n",
       "<ol class=list-inline><li>'Premier League'</li><li>'Championship'</li><li>'LaLiga'</li><li>'LaLiga2'</li><li>'Serie A'</li><li>'Serie B'</li><li>'Serie C - Girone B'</li><li>NA</li><li>'Bundesliga'</li><li>'2. Bundesliga'</li><li>'Ligue 1'</li><li>'Ligue 2'</li><li>'Championnat National'</li></ol>\n"
      ],
      "text/latex": [
       "\\begin{enumerate*}\n",
       "\\item 'Premier League'\n",
       "\\item 'Championship'\n",
       "\\item 'LaLiga'\n",
       "\\item 'LaLiga2'\n",
       "\\item 'Serie A'\n",
       "\\item 'Serie B'\n",
       "\\item 'Serie C - Girone B'\n",
       "\\item NA\n",
       "\\item 'Bundesliga'\n",
       "\\item '2. Bundesliga'\n",
       "\\item 'Ligue 1'\n",
       "\\item 'Ligue 2'\n",
       "\\item 'Championnat National'\n",
       "\\end{enumerate*}\n"
      ],
      "text/markdown": [
       "1. 'Premier League'\n",
       "2. 'Championship'\n",
       "3. 'LaLiga'\n",
       "4. 'LaLiga2'\n",
       "5. 'Serie A'\n",
       "6. 'Serie B'\n",
       "7. 'Serie C - Girone B'\n",
       "8. NA\n",
       "9. 'Bundesliga'\n",
       "10. '2. Bundesliga'\n",
       "11. 'Ligue 1'\n",
       "12. 'Ligue 2'\n",
       "13. 'Championnat National'\n",
       "\n",
       "\n"
      ],
      "text/plain": [
       " [1] \"Premier League\"       \"Championship\"         \"LaLiga\"              \n",
       " [4] \"LaLiga2\"              \"Serie A\"              \"Serie B\"             \n",
       " [7] \"Serie C - Girone B\"   NA                     \"Bundesliga\"          \n",
       "[10] \"2. Bundesliga\"        \"Ligue 1\"              \"Ligue 2\"             \n",
       "[13] \"Championnat National\""
      ]
     },
     "metadata": {},
     "output_type": "display_data"
    },
    {
     "data": {
      "text/html": [
       "'3525 head coaches records for leagues of interests'"
      ],
      "text/latex": [
       "'3525 head coaches records for leagues of interests'"
      ],
      "text/markdown": [
       "'3525 head coaches records for leagues of interests'"
      ],
      "text/plain": [
       "[1] \"3525 head coaches records for leagues of interests\""
      ]
     },
     "metadata": {},
     "output_type": "display_data"
    }
   ],
   "source": [
    "# match_results$league : 'Premier League''La Liga''Ligue 1''Bundesliga''Serie A'\n",
    "unique(head_coach$league)\n",
    "league <- c('Premier League', 'LaLiga', 'Ligue 1', 'Bundesliga', 'Serie A')\n",
    "head_coach_bis <- head_coach[head_coach$league %in% league,]\n",
    "paste(nrow(head_coach_bis), \"head coaches records for leagues of interests\")"
   ]
  },
  {
   "cell_type": "code",
   "execution_count": 70,
   "id": "a0a244ab",
   "metadata": {},
   "outputs": [
    {
     "data": {
      "text/html": [
       "'298 head coaches records for leagues of interests active between 2018 and 2022'"
      ],
      "text/latex": [
       "'298 head coaches records for leagues of interests active between 2018 and 2022'"
      ],
      "text/markdown": [
       "'298 head coaches records for leagues of interests active between 2018 and 2022'"
      ],
      "text/plain": [
       "[1] \"298 head coaches records for leagues of interests active between 2018 and 2022\""
      ]
     },
     "metadata": {},
     "output_type": "display_data"
    }
   ],
   "source": [
    "# Select head-coach that have been active between 2018 and 2022\n",
    "head_coach_bis <- head_coach_bis[is.na(head_coach_bis$end_date) | head_coach_bis$end_date >= \"2018-01-01\",]\n",
    "head_coach_bis <- head_coach_bis[head_coach_bis$appointed <= \"2022-12-31\",]\n",
    "paste(nrow(head_coach_bis), \"head coaches records for leagues of interests active between 2018 and 2022\")\n",
    "# Drop column\n",
    "column_to_drop <- c(\"staff_role\", \"ppg\")\n",
    "head_coach_bis <- head_coach_bis[, !(names(head_coach_bis) %in% column_to_drop)]\n",
    "# Rename staff_name column to coach_name\n",
    "names(head_coach_bis)[names(head_coach_bis) == \"staff_name\"] <- \"coach_name\""
   ]
  },
  {
   "cell_type": "code",
   "execution_count": 71,
   "id": "100b16e6",
   "metadata": {},
   "outputs": [],
   "source": [
    "# Save in 'data/head_coach.csv'\n",
    "fwrite(head_coach_bis, file = \"data/head_coach.csv\", quote = \"auto\")"
   ]
  }
 ],
 "metadata": {
  "jupytext": {
   "cell_metadata_filter": "eval,-all",
   "main_language": "R",
   "notebook_metadata_filter": "-all"
  },
  "kernelspec": {
   "display_name": "Python 3 (ipykernel)",
   "language": "python",
   "name": "python3"
  },
  "language_info": {
   "codemirror_mode": {
    "name": "ipython",
    "version": 3
   },
   "file_extension": ".py",
   "mimetype": "text/x-python",
   "name": "python",
   "nbconvert_exporter": "python",
   "pygments_lexer": "ipython3",
   "version": "3.11.7"
  }
 },
 "nbformat": 4,
 "nbformat_minor": 5
}
