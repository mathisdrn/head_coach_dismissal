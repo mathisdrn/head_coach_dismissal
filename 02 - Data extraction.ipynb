{
 "cells": [
  {
   "cell_type": "markdown",
   "id": "7a2d36dd",
   "metadata": {},
   "source": [
    "---\n",
    "title: Data extraction\n",
    "description: We proceed to extract dataset using WorldFootballR library from Fbref and ...\n",
    "---"
   ]
  },
  {
   "cell_type": "code",
   "execution_count": 2,
   "id": "b07eaee9",
   "metadata": {
    "vscode": {
     "languageId": "r"
    }
   },
   "outputs": [
    {
     "name": "stderr",
     "output_type": "stream",
     "text": [
      "Le chargement a n'ecessit'e le package : worldfootballR\n",
      "\n",
      "Le chargement a n'ecessit'e le package : data.table\n",
      "\n"
     ]
    }
   ],
   "source": [
    "if (!require(worldfootballR)) { \n",
    "  install.packages(\"worldfootballR\")\n",
    "}\n",
    "\n",
    "if (!require(data.table)) {\n",
    "  install.packages(\"data.table\")\n",
    "}\n",
    "\n",
    "library(worldfootballR)\n",
    "library(data.table)"
   ]
  },
  {
   "cell_type": "markdown",
   "id": "19a44114",
   "metadata": {
    "vscode": {
     "languageId": "r"
    }
   },
   "source": [
    "### Les données sur les matchs"
   ]
  },
  {
   "cell_type": "code",
   "execution_count": 2,
   "id": "db3124e1",
   "metadata": {
    "vscode": {
     "languageId": "r"
    }
   },
   "outputs": [],
   "source": [
    "country <- c(\"ENG\", \"ESP\", \"ITA\", \"GER\", \"FRA\")\n",
    "year <- c(2018, 2019, 2020, 2021, 2022)\n",
    "result <- fb_match_results(country = country, gender = \"M\", season_end_year = year, tier = \"1st\")"
   ]
  },
  {
   "cell_type": "code",
   "execution_count": 3,
   "id": "aded1103",
   "metadata": {
    "vscode": {
     "languageId": "r"
    }
   },
   "outputs": [],
   "source": [
    "column_to_drop <- c('Gender', 'Day', 'Wk', 'Time', 'Venue', 'Referee', 'Attendance', 'Home_xG', 'Away_xG', 'Notes', 'Round')\n",
    "result <- result[, !(names(result) %in% column_to_drop)]\n",
    "# Rename result$Competition_Name of 'Fu\\303\\237ball-Bundesliga' to 'Bundesliga'\n",
    "result$Competition_Name[result$Competition_Name == 'Fu\\303\\237ball-Bundesliga'] <- 'Bundesliga'\n",
    "# Rename columns of result dataframe\n",
    "names(result) <- c('league', 'country', 'season_year', 'date', 'home', 'home_goals', 'away', 'away_goals', 'match_url')\n",
    "# Rename country code to country name\n",
    "match_country <- c('ENG' = 'England', 'ITA' = 'Italy', 'FRA' = 'France', 'GER' = 'Germany', 'ESP' = 'Spain')\n",
    "result$country <- match_country[result$country]"
   ]
  },
  {
   "cell_type": "markdown",
   "id": "1177370e",
   "metadata": {},
   "source": [
    "Nous avons récupéré les données pour les ligues suivante : {eval}`paste(unique(result$league), collapse = \", \")`. Cela concerne {eval}`nrow(result)` matchs pour la période {eval}`min(year)` à {eval}`max(year)`. "
   ]
  },
  {
   "cell_type": "code",
   "execution_count": null,
   "id": "f1862f2c",
   "metadata": {
    "vscode": {
     "languageId": "r"
    }
   },
   "outputs": [],
   "source": [
    "head(result, 4)"
   ]
  },
  {
   "cell_type": "code",
   "execution_count": null,
   "id": "dbe1319d",
   "metadata": {
    "vscode": {
     "languageId": "r"
    }
   },
   "outputs": [],
   "source": [
    "# Save result in 'data/match_results.csv'\n",
    "fwrite(result, file = \"data/extracted_match_results.csv\", quote = \"auto\")"
   ]
  },
  {
   "cell_type": "markdown",
   "id": "0dd1d968",
   "metadata": {},
   "source": [
    "### Les données sur les entraîneurs-chefs"
   ]
  },
  {
   "cell_type": "code",
   "execution_count": 3,
   "id": "28e076f6",
   "metadata": {
    "vscode": {
     "languageId": "r"
    }
   },
   "outputs": [
    {
     "name": "stdout",
     "output_type": "stream",
     "text": [
      "[1] \"England : 20 teams\"\n",
      "[1] \"Spain : 20 teams\"\n",
      "[1] \"Italy : 20 teams\"\n",
      "[1] \"Germany : 18 teams\"\n",
      "[1] \"France : 20 teams\"\n"
     ]
    }
   ],
   "source": [
    "country <- c(\"England\", \"Spain\", \"Italy\", \"Germany\", \"France\")\n",
    "\n",
    "# Créer le vecteur teams_url\n",
    "teams_url <- c()\n",
    "for (i in seq_along(country)) {\n",
    "    team_url <- tm_league_team_urls(country_name = country[i], start_year = 2018)\n",
    "    print(paste(country[i], \":\", length(team_url), \"teams\"))\n",
    "    teams_url <- c(teams_url, team_url)\n",
    "}"
   ]
  },
  {
   "cell_type": "code",
   "execution_count": 4,
   "id": "d8ce18f9",
   "metadata": {
    "vscode": {
     "languageId": "r"
    }
   },
   "outputs": [
    {
     "name": "stdout",
     "output_type": "stream",
     "text": [
      "[1] \"4855 head coaches records\"\n"
     ]
    }
   ],
   "source": [
    "head_coach <- tm_team_staff_history(team_urls = teams_url, staff_role = \"Manager\")\n",
    "print(paste(nrow(head_coach), \"head coaches records\"))"
   ]
  },
  {
   "cell_type": "code",
   "execution_count": 5,
   "id": "3bd70b01",
   "metadata": {
    "vscode": {
     "languageId": "r"
    }
   },
   "outputs": [
    {
     "data": {
      "text/html": [
       "<style>\n",
       ".list-inline {list-style: none; margin:0; padding: 0}\n",
       ".list-inline>li {display: inline-block}\n",
       ".list-inline>li:not(:last-child)::after {content: \"\\00b7\"; padding: 0 .5ex}\n",
       "</style>\n",
       "<ol class=list-inline><li>'Premier League'</li><li>'Championship'</li><li>'LaLiga'</li><li>'LaLiga2'</li><li>'Serie A'</li><li>'Serie B'</li><li>'Serie C - Girone B'</li><li>NA</li><li>'Bundesliga'</li><li>'2. Bundesliga'</li><li>'Ligue 1'</li><li>'Ligue 2'</li><li>'Championnat National'</li></ol>\n"
      ],
      "text/latex": [
       "\\begin{enumerate*}\n",
       "\\item 'Premier League'\n",
       "\\item 'Championship'\n",
       "\\item 'LaLiga'\n",
       "\\item 'LaLiga2'\n",
       "\\item 'Serie A'\n",
       "\\item 'Serie B'\n",
       "\\item 'Serie C - Girone B'\n",
       "\\item NA\n",
       "\\item 'Bundesliga'\n",
       "\\item '2. Bundesliga'\n",
       "\\item 'Ligue 1'\n",
       "\\item 'Ligue 2'\n",
       "\\item 'Championnat National'\n",
       "\\end{enumerate*}\n"
      ],
      "text/markdown": [
       "1. 'Premier League'\n",
       "2. 'Championship'\n",
       "3. 'LaLiga'\n",
       "4. 'LaLiga2'\n",
       "5. 'Serie A'\n",
       "6. 'Serie B'\n",
       "7. 'Serie C - Girone B'\n",
       "8. NA\n",
       "9. 'Bundesliga'\n",
       "10. '2. Bundesliga'\n",
       "11. 'Ligue 1'\n",
       "12. 'Ligue 2'\n",
       "13. 'Championnat National'\n",
       "\n",
       "\n"
      ],
      "text/plain": [
       " [1] \"Premier League\"       \"Championship\"         \"LaLiga\"              \n",
       " [4] \"LaLiga2\"              \"Serie A\"              \"Serie B\"             \n",
       " [7] \"Serie C - Girone B\"   NA                     \"Bundesliga\"          \n",
       "[10] \"2. Bundesliga\"        \"Ligue 1\"              \"Ligue 2\"             \n",
       "[13] \"Championnat National\""
      ]
     },
     "metadata": {},
     "output_type": "display_data"
    },
    {
     "data": {
      "text/html": [
       "'3528 head coaches records for leagues of interests'"
      ],
      "text/latex": [
       "'3528 head coaches records for leagues of interests'"
      ],
      "text/markdown": [
       "'3528 head coaches records for leagues of interests'"
      ],
      "text/plain": [
       "[1] \"3528 head coaches records for leagues of interests\""
      ]
     },
     "metadata": {},
     "output_type": "display_data"
    }
   ],
   "source": [
    "# match_results$league : 'Premier League''La Liga''Ligue 1''Bundesliga''Serie A'\n",
    "unique(head_coach$league)\n",
    "league <- c('Premier League', 'LaLiga', 'Ligue 1', 'Bundesliga', 'Serie A')\n",
    "head_coach_bis <- head_coach[head_coach$league %in% league,]\n",
    "paste(nrow(head_coach_bis), \"head coaches records for leagues of interests\")"
   ]
  },
  {
   "cell_type": "markdown",
   "id": "b261f69c",
   "metadata": {},
   "source": [
    "Leagues in which we are collecting data : {eval}`unique(head_coach$league)`\n",
    "\n",
    "{eval}`nrow(head_coach_bis)` head coaches records for leagues of interests"
   ]
  },
  {
   "cell_type": "code",
   "execution_count": 6,
   "id": "a0a244ab",
   "metadata": {
    "vscode": {
     "languageId": "r"
    }
   },
   "outputs": [
    {
     "data": {
      "text/html": [
       "'298 head coaches records for leagues of interests active between 2018 and 2022'"
      ],
      "text/latex": [
       "'298 head coaches records for leagues of interests active between 2018 and 2022'"
      ],
      "text/markdown": [
       "'298 head coaches records for leagues of interests active between 2018 and 2022'"
      ],
      "text/plain": [
       "[1] \"298 head coaches records for leagues of interests active between 2018 and 2022\""
      ]
     },
     "metadata": {},
     "output_type": "display_data"
    }
   ],
   "source": [
    "# Select head-coach that have been active between 2018 and 2022\n",
    "head_coach_bis <- head_coach_bis[is.na(head_coach_bis$end_date) | head_coach_bis$end_date >= \"2018-01-01\",]\n",
    "head_coach_bis <- head_coach_bis[head_coach_bis$appointed <= \"2022-12-31\",]\n",
    "paste(nrow(head_coach_bis), \"head coaches records for leagues of interests active between 2018 and 2022\")\n",
    "# Drop column\n",
    "column_to_drop <- c(\"staff_role\", \"ppg\")\n",
    "head_coach_bis <- head_coach_bis[, !(names(head_coach_bis) %in% column_to_drop)]\n",
    "# Rename staff_name column to coach_name\n",
    "names(head_coach_bis)[names(head_coach_bis) == \"staff_name\"] <- \"coach_name\""
   ]
  },
  {
   "cell_type": "code",
   "execution_count": 11,
   "id": "100b16e6",
   "metadata": {
    "vscode": {
     "languageId": "r"
    }
   },
   "outputs": [],
   "source": [
    "# Save in 'data/head_coach.csv'\n",
    "fwrite(head_coach_bis, file = \"data/extracted_head_coach.csv\", quote = \"auto\")"
   ]
  }
 ],
 "metadata": {
  "jupytext": {
   "cell_metadata_filter": "eval,-all",
   "main_language": "R",
   "notebook_metadata_filter": "-all"
  },
  "kernelspec": {
   "display_name": "R",
   "language": "R",
   "name": "ir"
  },
  "language_info": {
   "codemirror_mode": "r",
   "file_extension": ".r",
   "mimetype": "text/x-r-source",
   "name": "R",
   "pygments_lexer": "r",
   "version": "4.3.2"
  }
 },
 "nbformat": 4,
 "nbformat_minor": 5
}
