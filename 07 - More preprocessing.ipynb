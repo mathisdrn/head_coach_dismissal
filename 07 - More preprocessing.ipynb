{
 "cells": [
  {
   "cell_type": "markdown",
   "metadata": {},
   "source": [
    "---\n",
    "title: dzkad\n",
    "description: dzakdlza\n",
    "file_format: mystnb\n",
    "kernelspec:\n",
    "  name: TER\n",
    "mystnb:\n",
    "    execution_mode: 'inline'\n",
    "---"
   ]
  },
  {
   "cell_type": "code",
   "execution_count": 20,
   "metadata": {},
   "outputs": [],
   "source": [
    "import pandas as pd"
   ]
  },
  {
   "cell_type": "code",
   "execution_count": 21,
   "metadata": {},
   "outputs": [],
   "source": [
    "# Create a dataset that contains match results (win, draw, loss) and days since head coach was appointed\n",
    "\n",
    "# rows of match_result contains team1, team2, home_team, home_goals, away_team, away_goals\n",
    "match_results = pd.read_csv('data/match_results.csv', parse_dates=['date'])\n",
    "\n",
    "## 1. Create home_results, away_results\n",
    "def return_result(goal1, goal2):\n",
    "    if goal1 > goal2:\n",
    "        return 'win'\n",
    "    elif goal1 < goal2:\n",
    "        return 'loss'\n",
    "    else:\n",
    "        return 'draw'\n",
    "\n",
    "match_results['home_result'] = match_results.apply(lambda x: return_result(x['home_goals'], x['away_goals']), axis=1)\n",
    "match_results['away_result'] = match_results.apply(lambda x: return_result(x['away_goals'], x['home_goals']), axis=1)\n",
    "\n",
    "# 2. Transform match into 2 separate rows relative to each team\n",
    "home_results = match_results[['date', 'home_team', 'home_result']]\n",
    "home_results.columns = ['date', 'team', 'result']\n",
    "\n",
    "away_results = match_results[['date', 'away_team', 'away_result']]\n",
    "away_results.columns = ['date', 'team', 'result']\n",
    "\n",
    "match_results = pd.concat([home_results, away_results], axis=0)"
   ]
  },
  {
   "cell_type": "code",
   "execution_count": 22,
   "metadata": {},
   "outputs": [],
   "source": [
    "# 3. Add a column that contains the days since the head coach was appointed for that team\n",
    "\n",
    "# head_coach contains team, coach_name, appointed, end_date\n",
    "head_coach = pd.read_csv('data/head_coach.csv', parse_dates=['appointed', 'end_date'])\n",
    "head_coach = head_coach[['team', 'league', 'appointed', 'coach_name', 'end_date']]"
   ]
  },
  {
   "cell_type": "code",
   "execution_count": 23,
   "metadata": {},
   "outputs": [
    {
     "name": "stdout",
     "output_type": "stream",
     "text": [
      "Number of matches without a head coach: 69\n",
      "Team without head coach for some matches:\n",
      "Ajaccio, Amiens, Angers, Arminia, Aston Villa, Auxerre, Benevento, Bochum, Bordeaux, Brentford, Brescia, Brest, Caen, Cardiff City, Chievo, Clermont Foot, Crotone, Cádiz, Dijon, Düsseldorf, Eibar, Elche, Espanyol, Granada, Greuther Fürth, Guingamp, Hamburger SV, Hannover 96, Heidenheim, Hellas Verona, Hertha BSC, Holstein Kiel, Huddersfield, Huesca, Köln, La Coruña, Las Palmas, Lecce, Leeds United, Leganés, Leicester City, Lens, Levante, Lorient, Mallorca, Metz, Málaga, Norwich City, Nîmes, Nürnberg, Osasuna, Paderborn 07, Parma, SPAL, Saint-Étienne, Salernitana, Sampdoria, Schalke 04, Sheffield Utd, Southampton, Spezia, Stoke City, Swansea City, Troyes, Union Berlin, Valladolid, Venezia, Watford, West Brom\n",
      "All coach have a matching team in teams result :  True\n"
     ]
    }
   ],
   "source": [
    "# Investigate non matching rows between match_results and head_coach\n",
    "no_match = pd.merge(match_results, head_coach, on='team', how='outer')\n",
    "match_without_coach = no_match[no_match['appointed'].isna()].groupby('team').count()\n",
    "\n",
    "print(f\"Number of matches without a head coach: {match_without_coach.shape[0]}\")\n",
    "print(\"Team without head coach for some matches:\")\n",
    "print(\", \".join(match_without_coach.index.unique()))\n",
    "\n",
    "print(\"All coach have a matching team in teams result : \", no_match[no_match['team'].isna()].shape[0] == 0)"
   ]
  },
  {
   "cell_type": "code",
   "execution_count": 24,
   "metadata": {},
   "outputs": [
    {
     "name": "stdout",
     "output_type": "stream",
     "text": [
      "Some teams have multiple head coach at the same time: Reims\n"
     ]
    },
    {
     "data": {
      "text/html": [
       "<div>\n",
       "<style scoped>\n",
       "    .dataframe tbody tr th:only-of-type {\n",
       "        vertical-align: middle;\n",
       "    }\n",
       "\n",
       "    .dataframe tbody tr th {\n",
       "        vertical-align: top;\n",
       "    }\n",
       "\n",
       "    .dataframe thead th {\n",
       "        text-align: right;\n",
       "    }\n",
       "</style>\n",
       "<table border=\"1\" class=\"dataframe\">\n",
       "  <thead>\n",
       "    <tr style=\"text-align: right;\">\n",
       "      <th></th>\n",
       "      <th>team</th>\n",
       "      <th>league</th>\n",
       "      <th>appointed</th>\n",
       "      <th>coach_name</th>\n",
       "      <th>end_date</th>\n",
       "    </tr>\n",
       "  </thead>\n",
       "  <tbody>\n",
       "    <tr>\n",
       "      <th>294</th>\n",
       "      <td>Reims</td>\n",
       "      <td>Ligue 1</td>\n",
       "      <td>2022-10-13</td>\n",
       "      <td>Will Still</td>\n",
       "      <td>NaT</td>\n",
       "    </tr>\n",
       "    <tr>\n",
       "      <th>295</th>\n",
       "      <td>Reims</td>\n",
       "      <td>Ligue 1</td>\n",
       "      <td>2021-06-23</td>\n",
       "      <td>Óscar García</td>\n",
       "      <td>2022-10-13</td>\n",
       "    </tr>\n",
       "    <tr>\n",
       "      <th>296</th>\n",
       "      <td>Reims</td>\n",
       "      <td>Ligue 1</td>\n",
       "      <td>2018-07-01</td>\n",
       "      <td>Sébastien Desmazeau</td>\n",
       "      <td>2019-03-30</td>\n",
       "    </tr>\n",
       "    <tr>\n",
       "      <th>297</th>\n",
       "      <td>Reims</td>\n",
       "      <td>Ligue 1</td>\n",
       "      <td>2017-05-22</td>\n",
       "      <td>David Guion</td>\n",
       "      <td>2021-05-25</td>\n",
       "    </tr>\n",
       "  </tbody>\n",
       "</table>\n",
       "</div>"
      ],
      "text/plain": [
       "      team   league  appointed           coach_name   end_date\n",
       "294  Reims  Ligue 1 2022-10-13           Will Still        NaT\n",
       "295  Reims  Ligue 1 2021-06-23         Óscar García 2022-10-13\n",
       "296  Reims  Ligue 1 2018-07-01  Sébastien Desmazeau 2019-03-30\n",
       "297  Reims  Ligue 1 2017-05-22          David Guion 2021-05-25"
      ]
     },
     "metadata": {},
     "output_type": "display_data"
    }
   ],
   "source": [
    "# Merge the results and head_coach DataFrames on the 'team' column\n",
    "merged = pd.merge(match_results, head_coach, on='team', how='inner')\n",
    "\n",
    "# Filter the rows based on the 'date' and 'appointed' columns\n",
    "filtered = merged[(merged['appointed'] <= merged['date']) & \n",
    "                  ((merged['end_date'] > merged['date']) | (merged['end_date'].isna()))]\n",
    "\n",
    "check = filtered.groupby(['team', 'date']).size().reset_index(name='counts')\n",
    "if check['counts'].max() >= 1:\n",
    "    team_with_overlapping_coach = check[check['counts'] >= 2]['team'].unique()\n",
    "    print(f\"Some teams have multiple head coach at the same time: {' ,'.join(team_with_overlapping_coach)}\")\n",
    "    display(head_coach[head_coach['team'].isin(team_with_overlapping_coach)])\n",
    "\n",
    "    # Drop teams with overlapping head_coach\n",
    "    filtered = filtered[~filtered['team'].isin(team_with_overlapping_coach)]"
   ]
  },
  {
   "cell_type": "code",
   "execution_count": 25,
   "metadata": {},
   "outputs": [],
   "source": [
    "# Calculate the number of days since the head coach was appointed\n",
    "filtered['days_in_post'] = (filtered['date'] - filtered['appointed']).dt.days"
   ]
  },
  {
   "cell_type": "code",
   "execution_count": 26,
   "metadata": {},
   "outputs": [
    {
     "name": "stdout",
     "output_type": "stream",
     "text": [
      "11637 matches out of 18296 remains after excluding matches where we don't have information on head coach or there is overlapping head coaches.\n"
     ]
    },
    {
     "data": {
      "text/html": [
       "<div>\n",
       "<style scoped>\n",
       "    .dataframe tbody tr th:only-of-type {\n",
       "        vertical-align: middle;\n",
       "    }\n",
       "\n",
       "    .dataframe tbody tr th {\n",
       "        vertical-align: top;\n",
       "    }\n",
       "\n",
       "    .dataframe thead th {\n",
       "        text-align: right;\n",
       "    }\n",
       "</style>\n",
       "<table border=\"1\" class=\"dataframe\">\n",
       "  <thead>\n",
       "    <tr style=\"text-align: right;\">\n",
       "      <th></th>\n",
       "      <th>date</th>\n",
       "      <th>team</th>\n",
       "      <th>result</th>\n",
       "      <th>league</th>\n",
       "      <th>appointed</th>\n",
       "      <th>coach_name</th>\n",
       "      <th>end_date</th>\n",
       "      <th>days_in_post</th>\n",
       "    </tr>\n",
       "  </thead>\n",
       "  <tbody>\n",
       "    <tr>\n",
       "      <th>29707</th>\n",
       "      <td>2017-12-04</td>\n",
       "      <td>Alavés</td>\n",
       "      <td>win</td>\n",
       "      <td>LaLiga</td>\n",
       "      <td>2017-12-01</td>\n",
       "      <td>Abelardo</td>\n",
       "      <td>2019-06-30</td>\n",
       "      <td>3</td>\n",
       "    </tr>\n",
       "    <tr>\n",
       "      <th>4183</th>\n",
       "      <td>2017-12-08</td>\n",
       "      <td>Alavés</td>\n",
       "      <td>win</td>\n",
       "      <td>LaLiga</td>\n",
       "      <td>2017-12-01</td>\n",
       "      <td>Abelardo</td>\n",
       "      <td>2019-06-30</td>\n",
       "      <td>7</td>\n",
       "    </tr>\n",
       "    <tr>\n",
       "      <th>29753</th>\n",
       "      <td>2017-12-16</td>\n",
       "      <td>Alavés</td>\n",
       "      <td>loss</td>\n",
       "      <td>LaLiga</td>\n",
       "      <td>2017-12-01</td>\n",
       "      <td>Abelardo</td>\n",
       "      <td>2019-06-30</td>\n",
       "      <td>15</td>\n",
       "    </tr>\n",
       "    <tr>\n",
       "      <th>4252</th>\n",
       "      <td>2017-12-21</td>\n",
       "      <td>Alavés</td>\n",
       "      <td>win</td>\n",
       "      <td>LaLiga</td>\n",
       "      <td>2017-12-01</td>\n",
       "      <td>Abelardo</td>\n",
       "      <td>2019-06-30</td>\n",
       "      <td>20</td>\n",
       "    </tr>\n",
       "    <tr>\n",
       "      <th>29827</th>\n",
       "      <td>2018-01-07</td>\n",
       "      <td>Alavés</td>\n",
       "      <td>loss</td>\n",
       "      <td>LaLiga</td>\n",
       "      <td>2017-12-01</td>\n",
       "      <td>Abelardo</td>\n",
       "      <td>2019-06-30</td>\n",
       "      <td>37</td>\n",
       "    </tr>\n",
       "  </tbody>\n",
       "</table>\n",
       "</div>"
      ],
      "text/plain": [
       "            date    team result  league  appointed coach_name   end_date  \\\n",
       "29707 2017-12-04  Alavés    win  LaLiga 2017-12-01   Abelardo 2019-06-30   \n",
       "4183  2017-12-08  Alavés    win  LaLiga 2017-12-01   Abelardo 2019-06-30   \n",
       "29753 2017-12-16  Alavés   loss  LaLiga 2017-12-01   Abelardo 2019-06-30   \n",
       "4252  2017-12-21  Alavés    win  LaLiga 2017-12-01   Abelardo 2019-06-30   \n",
       "29827 2018-01-07  Alavés   loss  LaLiga 2017-12-01   Abelardo 2019-06-30   \n",
       "\n",
       "       days_in_post  \n",
       "29707             3  \n",
       "4183              7  \n",
       "29753            15  \n",
       "4252             20  \n",
       "29827            37  "
      ]
     },
     "execution_count": 26,
     "metadata": {},
     "output_type": "execute_result"
    }
   ],
   "source": [
    "print(f\"{filtered.shape[0]} matches out of {match_results.shape[0]} remains after excluding matches where we don't have information on head coach or there is overlapping head coaches.\")\n",
    "\n",
    "filtered.sort_values(['team', 'date']).head()"
   ]
  },
  {
   "cell_type": "code",
   "execution_count": 28,
   "metadata": {},
   "outputs": [],
   "source": [
    "# Exclude matches with days_in_post > 2000\n",
    "filtered = filtered[filtered['days_in_post'] <= 2000]\n",
    "# Save as match_results2.csv\n",
    "match_results = filtered[['date', 'league', 'team', 'result', 'days_in_post']]\n",
    "match_results.to_csv('data/match_results2.csv', index=False)"
   ]
  }
 ],
 "metadata": {
  "kernelspec": {
   "display_name": "TER",
   "language": "python",
   "name": "python3"
  },
  "language_info": {
   "codemirror_mode": {
    "name": "ipython",
    "version": 3
   },
   "file_extension": ".py",
   "mimetype": "text/x-python",
   "name": "python",
   "nbconvert_exporter": "python",
   "pygments_lexer": "ipython3",
   "version": "3.11.8"
  }
 },
 "nbformat": 4,
 "nbformat_minor": 2
}
