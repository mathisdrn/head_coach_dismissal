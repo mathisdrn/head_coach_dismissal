{
 "cells": [
  {
   "cell_type": "markdown",
   "metadata": {
    "editable": true,
    "slideshow": {
     "slide_type": ""
    },
    "tags": []
   },
   "source": [
    "---\n",
    "title: Head coach dismissal effect on football team performance\n",
    "subject: Statistical analysis\n",
    "subtitle: Evolve your markdown documents into structured data\n",
    "short_title: Paper\n",
    "license: CC-BY-4.0\n",
    "keywords: coach dismissal, team performance\n",
    "date: 02/10/2024\n",
    "---"
   ]
  },
  {
   "cell_type": "markdown",
   "metadata": {},
   "source": [
    "+++ {\"part\": \"abstract\"}\n",
    "\n",
    "The goals of this paper is to investigate the effect of coach dismissal on team performance. To do that, we will use traditional statistical method that we apply to football teams. \n",
    "\n",
    "+++"
   ]
  },
  {
   "cell_type": "markdown",
   "metadata": {},
   "source": [
    "## Introduction \n",
    "\n",
    "Le papier de recherche [](doi:10.3390/economies8040082) sera une référence majeure à ce travail.\n",
    "\n",
    "Utilisation de la librarie [WorldFootBallR] pour collecter des données sur les sites suivant [Fbref] et [Transfermarkt].\n",
    "\n",
    "## Données descriptives\n",
    "\n",
    "Il existe une différence dans la performance des équipes lorsqu'elle joue à domicile ou à l'extérieur (voir [](#home_away)).\n",
    "\n",
    ":::{figure} ./figures/home_away_effect.png\n",
    ":name: home_away\n",
    "Effet sur les résultats des matchs\n",
    ":::\n",
    "\n",
    "\n",
    "## Méthode statistiques\n",
    "\n",
    "**Test T de Student** : Ce test est utilisé lorsque vous comparez les moyennes de deux groupes. Il suppose que les données suivent une distribution normale et que les variances sont égales.\n",
    "\n",
    "**Test T de Welch** : Ce test est une version modifiée du test T de Student qui ne suppose pas que les variances soient égales.\n",
    "\n",
    "**Test ANOVA (Analyse de variance)** : Ce test est utilisé lorsque vous comparez les moyennes de plus de deux groupes. Il suppose que les données suivent une distribution normale et que les variances sont égales.\n",
    "\n",
    "**Test de Kruskal-Wallis** : Ce test est une version non paramétrique de l'ANOVA qui peut être utilisée lorsque les hypothèses de l'ANOVA ne sont pas respectées.\n",
    "\n",
    "**Test de Mann-Whitney U** : Ce test est une version non paramétrique du test T de Student qui peut être utilisée lorsque les hypothèses du test T de Student ne sont pas respectées.\n",
    "\n",
    "$\\theta = \\frac{x}{2}$\n",
    "\n",
    "## Conclusion\n",
    "\n",
    "[Fbref]: https://fbref.com/\n",
    "[WorldFootballR]: https://github.com/JaseZiv/worldfootballR/\n",
    "[Transfermarkt]: https://www.transfermarkt.com/"
   ]
  }
 ],
 "metadata": {
  "kernelspec": {
   "display_name": "Python 3 (ipykernel)",
   "language": "python",
   "name": "python3"
  },
  "language_info": {
   "codemirror_mode": {
    "name": "ipython",
    "version": 3
   },
   "file_extension": ".py",
   "mimetype": "text/x-python",
   "name": "python",
   "nbconvert_exporter": "python",
   "pygments_lexer": "ipython3",
   "version": "3.11.7"
  }
 },
 "nbformat": 4,
 "nbformat_minor": 4
}
